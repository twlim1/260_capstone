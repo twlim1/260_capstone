{
 "cells": [
  {
   "cell_type": "code",
   "execution_count": 2,
   "id": "technological-extreme",
   "metadata": {},
   "outputs": [],
   "source": [
    "import os\n",
    "import glob"
   ]
  },
  {
   "cell_type": "code",
   "execution_count": 8,
   "id": "conventional-cooler",
   "metadata": {},
   "outputs": [],
   "source": [
    "def get_content(file_addr):\n",
    "    with open(file_addr, 'r') as _f:\n",
    "        return _f.readlines()\n",
    "\n",
    "def single_line_file_content(lines):\n",
    "    single_line = ''\n",
    "    for line in lines:\n",
    "        single_line += f\"{line.strip()} \"\n",
    "    return single_line"
   ]
  },
  {
   "cell_type": "code",
   "execution_count": 9,
   "id": "rising-magazine",
   "metadata": {},
   "outputs": [],
   "source": [
    "with open('data/web_unified.txt', 'w') as f:\n",
    "    for file in glob.glob(\"web_content/*.txt\"):\n",
    "        content = get_content(file)\n",
    "        unified_line = single_line_file_content(content)\n",
    "        f.write(f\"{unified_line}\\n.\\n\")"
   ]
  },
  {
   "cell_type": "code",
   "execution_count": null,
   "id": "joint-cruise",
   "metadata": {},
   "outputs": [],
   "source": []
  }
 ],
 "metadata": {
  "kernelspec": {
   "display_name": "Python 3",
   "language": "python",
   "name": "python3"
  },
  "language_info": {
   "codemirror_mode": {
    "name": "ipython",
    "version": 3
   },
   "file_extension": ".py",
   "mimetype": "text/x-python",
   "name": "python",
   "nbconvert_exporter": "python",
   "pygments_lexer": "ipython3",
   "version": "3.8.5"
  }
 },
 "nbformat": 4,
 "nbformat_minor": 5
}
