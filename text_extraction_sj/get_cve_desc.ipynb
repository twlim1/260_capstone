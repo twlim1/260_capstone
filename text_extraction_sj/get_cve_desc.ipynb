{
 "cells": [
  {
   "cell_type": "code",
   "execution_count": 10,
   "id": "constitutional-criminal",
   "metadata": {},
   "outputs": [],
   "source": [
    "import os\n",
    "import json"
   ]
  },
  {
   "cell_type": "code",
   "execution_count": 11,
   "id": "equivalent-provision",
   "metadata": {},
   "outputs": [],
   "source": [
    "with open('data/nvdcve-1.1-2020.json') as f:\n",
    "    cve_dict = json.load(f)"
   ]
  },
  {
   "cell_type": "code",
   "execution_count": 12,
   "id": "fifty-photography",
   "metadata": {},
   "outputs": [],
   "source": [
    "file_name = 'data/cve_2020_text.txt'"
   ]
  },
  {
   "cell_type": "code",
   "execution_count": 13,
   "id": "caring-command",
   "metadata": {},
   "outputs": [],
   "source": [
    "if os.path.exists(file_name): \n",
    "    os.remove(file_name)\n",
    "\n",
    "counter = 0\n",
    "LIMIT = 100000\n",
    "\n",
    "with open(file_name, 'w') as f:\n",
    "    for cve in cve_dict['CVE_Items']:\n",
    "        desc_list = cve['cve']['description']['description_data']\n",
    "        for desc in desc_list:\n",
    "            f.write(desc['value'] +'\\n.\\n')\n",
    "        counter += 1\n",
    "        if counter == LIMIT:\n",
    "            break"
   ]
  },
  {
   "cell_type": "code",
   "execution_count": null,
   "id": "extensive-symphony",
   "metadata": {},
   "outputs": [],
   "source": []
  }
 ],
 "metadata": {
  "kernelspec": {
   "display_name": "Python 3",
   "language": "python",
   "name": "python3"
  },
  "language_info": {
   "codemirror_mode": {
    "name": "ipython",
    "version": 3
   },
   "file_extension": ".py",
   "mimetype": "text/x-python",
   "name": "python",
   "nbconvert_exporter": "python",
   "pygments_lexer": "ipython3",
   "version": "3.8.5"
  }
 },
 "nbformat": 4,
 "nbformat_minor": 5
}
