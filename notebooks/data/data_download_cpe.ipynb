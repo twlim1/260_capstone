{
 "cells": [
  {
   "cell_type": "markdown",
   "id": "essential-hampton",
   "metadata": {
    "id": "essential-hampton"
   },
   "source": [
    "**Title**: Download CPE data\\\n",
    "**Description**: Notebook to download all CPE data\\\n",
    "**Developer**: Teck Lim\\\n",
    "**Create date**: 03/28/2021"
   ]
  },
  {
   "cell_type": "code",
   "execution_count": null,
   "id": "extraordinary-mistress",
   "metadata": {
    "id": "extraordinary-mistress"
   },
   "outputs": [],
   "source": [
    "!pip install requests==2.25.1"
   ]
  },
  {
   "cell_type": "code",
   "execution_count": null,
   "id": "purple-brick",
   "metadata": {
    "id": "purple-brick"
   },
   "outputs": [],
   "source": [
    "import requests\n",
    "import json\n",
    "import time\n",
    "import os\n",
    "\n",
    "from datetime import datetime"
   ]
  },
  {
   "cell_type": "code",
   "execution_count": null,
   "id": "pending-berlin",
   "metadata": {},
   "outputs": [],
   "source": [
    "drive.mount('/content/gdrive')\n",
    "!dir './gdrive/Shareddrives/ucsd_drive/Data'"
   ]
  },
  {
   "cell_type": "code",
   "execution_count": null,
   "id": "intermediate-might",
   "metadata": {
    "id": "intermediate-might"
   },
   "outputs": [],
   "source": [
    "file_path = './gdrive/Shareddrives/ucsd_drive/Data/cpe.json'\n",
    "base_url = 'https://services.nvd.nist.gov/rest/json/cpes/1.0'"
   ]
  },
  {
   "cell_type": "code",
   "execution_count": null,
   "id": "center-silence",
   "metadata": {
    "id": "center-silence"
   },
   "outputs": [],
   "source": [
    "def scrap_cpe(start_page=0, total_page=1000, page_size=5000, sleep_duration=3):\n",
    "    \"\"\"\n",
    "    Scrap CPE using REST API.\n",
    "    start_page: starting page to scrap\n",
    "    total_page: max number of page to scrap\n",
    "    page_size: number of CVE in one page\n",
    "    sleep_duration: sleep time in between each REST to avoid denial of service\n",
    "    \"\"\"\n",
    "    cpe_items = list()\n",
    "    for page_no in range(start_page, total_page):\n",
    "        for _ in range(5):\n",
    "            try:\n",
    "                print('Retrieving page: {}'.format(page_no+1))\n",
    "                url = '{}?startIndex={}&resultsPerPage={}'.format(base_url, page_no*page_size, page_size)\n",
    "                response = requests.get(url)\n",
    "                response_json = response.json()\n",
    "                break\n",
    "            except:\n",
    "                print('Something is wrong. Sleep for {} sec before retrying'.format(sleep_duration))\n",
    "                time.sleep(sleep_duration)\n",
    "        else:\n",
    "            raise BaseException('Exhausted all attempts')\n",
    "\n",
    "        cpe_items += response_json['result']['cpes']          \n",
    "        print('Total scrapped: {}'.format(len(cpe_items)))\n",
    "        if len(cpe_items) == response_json['totalResults']:\n",
    "            print('Completed scrapping..')\n",
    "            break\n",
    "        time.sleep(sleep_duration)\n",
    "    return cpe_items"
   ]
  },
  {
   "cell_type": "code",
   "execution_count": null,
   "id": "ceramic-pollution",
   "metadata": {
    "id": "ceramic-pollution",
    "scrolled": true
   },
   "outputs": [],
   "source": [
    "cpe_list = scrap_cpe()\n",
    "print('Total unique CPE: {}'.format(len(cpe_list)))"
   ]
  },
  {
   "cell_type": "code",
   "execution_count": null,
   "id": "subtle-politics",
   "metadata": {},
   "outputs": [],
   "source": [
    "with open(file_path, 'w') as fp:\n",
    "    fp.write(json.dumps(cpe_list))"
   ]
  }
 ],
 "metadata": {
  "colab": {
   "collapsed_sections": [],
   "name": "data_download_cpe.ipynb",
   "provenance": []
  },
  "kernelspec": {
   "display_name": "Python 3",
   "language": "python",
   "name": "python3"
  },
  "language_info": {
   "codemirror_mode": {
    "name": "ipython",
    "version": 3
   },
   "file_extension": ".py",
   "mimetype": "text/x-python",
   "name": "python",
   "nbconvert_exporter": "python",
   "pygments_lexer": "ipython3",
   "version": "3.9.0"
  }
 },
 "nbformat": 4,
 "nbformat_minor": 5
}
