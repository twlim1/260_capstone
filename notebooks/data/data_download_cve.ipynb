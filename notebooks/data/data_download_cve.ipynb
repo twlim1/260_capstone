{
 "cells": [
  {
   "cell_type": "markdown",
   "id": "polyphonic-crowd",
   "metadata": {
    "id": "polyphonic-crowd"
   },
   "source": [
    "**Title**: Download CVE data\\\n",
    "**Description**: Notebook to download all CVE data\\\n",
    "**Developer**: Teck Lim\\\n",
    "**Create date**: 03/28/2021"
   ]
  },
  {
   "cell_type": "code",
   "execution_count": null,
   "id": "matched-poetry",
   "metadata": {
    "id": "matched-poetry"
   },
   "outputs": [],
   "source": [
    "!pip install requests==2.25.1"
   ]
  },
  {
   "cell_type": "code",
   "execution_count": null,
   "id": "alleged-clarity",
   "metadata": {
    "id": "alleged-clarity"
   },
   "outputs": [],
   "source": [
    "import requests\n",
    "import json\n",
    "import time\n",
    "import os\n",
    "\n",
    "from datetime import datetime"
   ]
  },
  {
   "cell_type": "code",
   "execution_count": null,
   "id": "surgical-butterfly",
   "metadata": {},
   "outputs": [],
   "source": [
    "drive.mount('/content/gdrive')\n",
    "!dir './gdrive/Shareddrives/ucsd_drive/Data'"
   ]
  },
  {
   "cell_type": "code",
   "execution_count": null,
   "id": "minor-border",
   "metadata": {
    "id": "minor-border"
   },
   "outputs": [],
   "source": [
    "file_path = './gdrive/Shareddrives/ucsd_drive/Data/cve.json'\n",
    "base_url = 'https://services.nvd.nist.gov/rest/json/cves/1.0'"
   ]
  },
  {
   "cell_type": "code",
   "execution_count": null,
   "id": "acting-vocabulary",
   "metadata": {
    "id": "acting-vocabulary"
   },
   "outputs": [],
   "source": [
    "def scrap_cve(start_page=0, total_page=1000, page_size=1000, sleep_duration=3, start_date=None):\n",
    "    \"\"\"\n",
    "    Scrap CVE using REST API. Current total CVE is approximately 153k as of 5/15/2020\n",
    "    start_page: starting page to scrap\n",
    "    total_page: max number of page to scrap\n",
    "    page_size: number of CVE in one page\n",
    "    sleep_duration: sleep time in between each REST to avoid denial of service\n",
    "    start_date: datetime object\n",
    "    \"\"\"\n",
    "    if start_date:\n",
    "        # CVE modified date has lowest granularity in minute. \n",
    "        # Add one second to get the next CVE since last update.\n",
    "        start_date = start_date.strftime('%Y-%m-%dT%H:%M:01:000 UTC-05:00')\n",
    "        print('Start Date: {}'.format(start_date))\n",
    "        \n",
    "    cve_items = list()\n",
    "    for page_no in range(start_page, total_page):\n",
    "        for _ in range(5):\n",
    "            try:\n",
    "                print('Retrieving page: {}'.format(page_no+1))\n",
    "                url = '{}?startIndex={}&resultsPerPage={}'.format(base_url, page_no*page_size, page_size)\n",
    "                if start_date:\n",
    "                    url = '{}&modStartDate={}'.format(url, start_date)\n",
    "                response = requests.get(url)\n",
    "                response_json = response.json()\n",
    "                break\n",
    "            except:\n",
    "                print('Something is wrong. Sleep for {} sec before retrying'.format(sleep_duration))\n",
    "                time.sleep(sleep_duration)\n",
    "        else:\n",
    "            raise BaseException('Exhausted all attempts')\n",
    "\n",
    "        cve_items += response_json['result']['CVE_Items']          \n",
    "        print('Scrapped: {}'.format(len(cve_items)))\n",
    "        if len(cve_items) == response_json['totalResults']:\n",
    "            print('Completed scrapping..')\n",
    "            break\n",
    "        time.sleep(sleep_duration)\n",
    "    print('Total scrapped: {}'.format(len(cve_items)))\n",
    "    return cve_items"
   ]
  },
  {
   "cell_type": "code",
   "execution_count": null,
   "id": "quiet-shepherd",
   "metadata": {},
   "outputs": [],
   "source": [
    "cve_list = []\n",
    "cve_id_list = []\n",
    "latest_time = None\n",
    "\n",
    "if os.path.isfile(file_path):\n",
    "    with open(file_path, 'r') as fp:\n",
    "        cve_list = json.load(fp) \n",
    "    print('CVE downloaded before: {}'.format(len(cve_list)))\n",
    "    \n",
    "    for cve in cve_list:\n",
    "        cve_id_list.append(cve['cve']['CVE_data_meta']['ID'])\n",
    "        cve_last_modified_date = datetime.strptime(cve['lastModifiedDate'], '%Y-%m-%dT%H:%MZ')\n",
    "        if not latest_time:\n",
    "            latest_time = cve_last_modified_date\n",
    "        else:\n",
    "            if latest_time < cve_last_modified_date:\n",
    "                latest_time = cve_last_modified_date\n",
    "    print('Last updated time: {}'.format(latest_time))       \n",
    "else:\n",
    "    print('CVE has not been downloaded before')    "
   ]
  },
  {
   "cell_type": "code",
   "execution_count": null,
   "id": "restricted-percentage",
   "metadata": {},
   "outputs": [],
   "source": [
    "if latest_time is None: \n",
    "    new_cve_list = scrap_cve(sleep_duration=1)\n",
    "else:\n",
    "    new_cve_list = scrap_cve(sleep_duration=1, start_date=latest_time)   \n",
    "    updated_cve = 0\n",
    "    for new_cve in new_cve_list:\n",
    "        new_cve_id = new_cve['cve']['CVE_data_meta']['ID']\n",
    "        if new_cve_id in cve_id_list:\n",
    "            updated_cve += 1\n",
    "            index = cve_id_list.index(new_cve_id)\n",
    "            cve_list.pop(index)\n",
    "            cve_id_list.pop(index)\n",
    "    \n",
    "    print('Total updated CVE: {}'.format(updated_cve))\n",
    "    new_cve_list += cve_list\n",
    "\n",
    "print('Total unique CVE: {}'.format(len(new_cve_list)))"
   ]
  },
  {
   "cell_type": "code",
   "execution_count": null,
   "id": "forward-scope",
   "metadata": {
    "id": "forward-scope",
    "scrolled": true
   },
   "outputs": [],
   "source": [
    "with open(file_path, 'w') as fp:\n",
    "    fp.write(json.dumps(new_cve_list))"
   ]
  }
 ],
 "metadata": {
  "colab": {
   "collapsed_sections": [],
   "name": "data_download_cve.ipynb",
   "provenance": []
  },
  "kernelspec": {
   "display_name": "Python 3",
   "language": "python",
   "name": "python3"
  },
  "language_info": {
   "codemirror_mode": {
    "name": "ipython",
    "version": 3
   },
   "file_extension": ".py",
   "mimetype": "text/x-python",
   "name": "python",
   "nbconvert_exporter": "python",
   "pygments_lexer": "ipython3",
   "version": "3.9.0"
  }
 },
 "nbformat": 4,
 "nbformat_minor": 5
}
