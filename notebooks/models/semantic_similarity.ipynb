{
 "cells": [
  {
   "cell_type": "markdown",
   "metadata": {
    "id": "cy3yP6ZIqviO"
   },
   "source": [
    "**Title**: Semantic similarity\\\n",
    "**Description**: Find the CVE description that similar to the input text. Runs on Google Collab\\\n",
    "**Developer**: Teck Lim\\\n",
    "**Create date**: 04/06/2021\\\n",
    "**Updated date**: 05/08/2021"
   ]
  },
  {
   "cell_type": "markdown",
   "metadata": {
    "id": "ag-idHELBrp7"
   },
   "source": [
    "# Import packages"
   ]
  },
  {
   "cell_type": "code",
   "execution_count": null,
   "metadata": {},
   "outputs": [],
   "source": [
    "# Install all the dependencies\n",
    "!pip install transformers"
   ]
  },
  {
   "cell_type": "code",
   "execution_count": null,
   "metadata": {
    "colab": {
     "base_uri": "https://localhost:8080/"
    },
    "id": "ahL6P2fCCihZ",
    "outputId": "7487fce6-eab1-4641-ccd9-99803c4a5252"
   },
   "outputs": [],
   "source": [
    "import os\n",
    "import pandas as pd\n",
    "import json\n",
    "import matplotlib.pyplot as plt\n",
    "import numpy as np\n",
    "import math\n",
    "import textwrap\n",
    "from google.colab import drive\n",
    "\n",
    "wrapper = textwrap.TextWrapper(initial_indent='  ', subsequent_indent='  ', width=120)\n",
    "\n",
    "!pip install transformers"
   ]
  },
  {
   "cell_type": "code",
   "execution_count": null,
   "metadata": {
    "colab": {
     "base_uri": "https://localhost:8080/"
    },
    "id": "1rwzlHCCEC_K",
    "outputId": "2ade8d18-0310-46f7-faf0-d08b05bee953"
   },
   "outputs": [],
   "source": [
    "# Mount your google drive\n",
    "drive.mount('/content/gdrive')"
   ]
  },
  {
   "cell_type": "markdown",
   "metadata": {
    "id": "lsPs8zOiiMke"
   },
   "source": [
    "# Semantic similarity search"
   ]
  },
  {
   "cell_type": "markdown",
   "metadata": {
    "id": "KCAI21N8il4t"
   },
   "source": [
    "## KNN"
   ]
  },
  {
   "cell_type": "code",
   "execution_count": null,
   "metadata": {
    "colab": {
     "base_uri": "https://localhost:8080/"
    },
    "id": "tC_b9562G0G-",
    "outputId": "4a89f028-d1bf-4ed6-a584-89eba1eda190"
   },
   "outputs": [],
   "source": [
    "!pip install faiss\n",
    "!pip install faiss-gpu"
   ]
  },
  {
   "cell_type": "code",
   "execution_count": null,
   "metadata": {
    "colab": {
     "base_uri": "https://localhost:8080/"
    },
    "id": "0wNm-5CJhGlp",
    "outputId": "38be4445-738f-4586-ae7f-ffcaaec51433"
   },
   "outputs": [],
   "source": [
    "import torch\n",
    "\n",
    "# If there's a GPU available...\n",
    "if torch.cuda.is_available():    \n",
    "    # Tell PyTorch to use the GPU.    \n",
    "    device = torch.device('cuda')\n",
    "    print('There are %d GPU(s) available.' % torch.cuda.device_count())\n",
    "    print('We will use the GPU:', torch.cuda.get_device_name(0))\n",
    "# If not...\n",
    "else:\n",
    "    print('No GPU available, using the CPU instead.')\n",
    "    device = torch.device('cpu')"
   ]
  },
  {
   "cell_type": "code",
   "execution_count": null,
   "metadata": {
    "colab": {
     "base_uri": "https://localhost:8080/"
    },
    "id": "pFJ9nSZClq9O",
    "outputId": "9fe90c65-139d-46fb-a0f6-cebb78998115"
   },
   "outputs": [],
   "source": [
    "file_path = './gdrive/Shareddrives/ucsd_drive/Data/cve.json'\n",
    "with open(file_path, 'r') as fp:\n",
    "    data = json.load(fp) \n",
    "len(data)"
   ]
  },
  {
   "cell_type": "code",
   "execution_count": null,
   "metadata": {
    "id": "Pd5w_GlNmAh4"
   },
   "outputs": [],
   "source": [
    "cve_id = list()\n",
    "text = list()\n",
    "for idx in range(len(data)):\n",
    "    try:\n",
    "        cve_id.append(data[idx]['cve']['CVE_data_meta']['ID'])\n",
    "        text.append(' '.join([text['value'] for text in data[idx]['cve']['description']['description_data']]))\n",
    "    except KeyError:\n",
    "        print(idx)\n",
    "        break\n",
    "\n",
    "df = pd.DataFrame({'cve_id': cve_id, 'text': text})"
   ]
  },
  {
   "cell_type": "code",
   "execution_count": null,
   "metadata": {
    "colab": {
     "base_uri": "https://localhost:8080/"
    },
    "id": "H9x_J5yomFqO",
    "outputId": "84ab3091-418a-4aa5-8ffe-0a939cfa324e"
   },
   "outputs": [],
   "source": [
    "sentences = df.text.values\n",
    "len(sentences)"
   ]
  },
  {
   "cell_type": "code",
   "execution_count": null,
   "metadata": {
    "colab": {
     "base_uri": "https://localhost:8080/"
    },
    "id": "norQpE4Ih6yp",
    "outputId": "fe194943-00fb-4ce7-d94e-6602faedaa2e"
   },
   "outputs": [],
   "source": [
    "from transformers import BertForSequenceClassification, BertTokenizer\n",
    "\n",
    "ui_output_dir = './gdrive/Shareddrives/ucsd_drive/Model/UI'\n",
    "ui_model = BertForSequenceClassification.from_pretrained(ui_output_dir, output_hidden_states=True)\n",
    "ui_tokenizer = BertTokenizer.from_pretrained(ui_output_dir)\n",
    "ui_model.to(device)"
   ]
  },
  {
   "cell_type": "code",
   "execution_count": null,
   "metadata": {
    "id": "o47Yj089ErNa"
   },
   "outputs": [],
   "source": [
    "import torch\n",
    "def text_to_embedding(tokenizer, model, max_len, in_text):\n",
    "    encoded_dict = tokenizer.encode_plus(\n",
    "                        in_text,                      # Sentence to encode.\n",
    "                        add_special_tokens = True,    # Add '[CLS]' and '[SEP]'\n",
    "                        max_length = max_len,         # Pad & truncate all sentences.\n",
    "                        padding='max_length',\n",
    "                        # pad_to_max_length = True,\n",
    "                        truncation=True,\n",
    "                        return_attention_mask = True, # Construct attn. masks.\n",
    "                        return_tensors = 'pt',        # Return pytorch tensors.\n",
    "                    )\n",
    "    input_ids = encoded_dict['input_ids']\n",
    "    attn_mask = encoded_dict['attention_mask']\n",
    "\n",
    "    model.eval()\n",
    "\n",
    "    input_ids = input_ids.to(device)\n",
    "    attn_mask = attn_mask.to(device)\n",
    "\n",
    "    with torch.no_grad():\n",
    "        result = model(input_ids=input_ids,\n",
    "                    token_type_ids=None,\n",
    "                    attention_mask=attn_mask)\n",
    "\n",
    "    # print(result.hidden_states[12][0][0])\n",
    "    layer_i = 12\n",
    "    batch_i = 0\n",
    "    token_i = 0\n",
    "\n",
    "    logits = result.logits\n",
    "    logits = logits.detach().cpu().numpy()\n",
    "\n",
    "    vec = result.hidden_states[layer_i][batch_i][token_i]\n",
    "    vec = vec.detach().cpu().numpy()\n",
    "\n",
    "    return logits, vec"
   ]
  },
  {
   "cell_type": "code",
   "execution_count": null,
   "metadata": {
    "colab": {
     "base_uri": "https://localhost:8080/"
    },
    "id": "4rFhe-J2mKmj",
    "outputId": "e9935ef4-850e-406f-b5ca-9168e4878f7d"
   },
   "outputs": [],
   "source": [
    "vecs_stacked = None\n",
    "for idx, input_text in enumerate(sentences):\n",
    "    logits, vec = text_to_embedding(ui_tokenizer, ui_model, 512, input_text)\n",
    "    vecs_stacked = vec if vecs_stacked is None else np.vstack((vecs_stacked, vec))\n",
    "    if (idx + 1) % 1000 == 0:\n",
    "        print('Processing index: {}'.format(idx + 1))\n",
    "\n",
    "print(vecs_stacked.shape)"
   ]
  },
  {
   "cell_type": "code",
   "execution_count": null,
   "metadata": {
    "id": "Sms7FWORlD5Y"
   },
   "outputs": [],
   "source": [
    "df_vectorized = pd.DataFrame(data=vecs_stacked)\n",
    "df_vectorized.insert(loc=0, column='cve_id', value=df['cve_id'])\n",
    "\n",
    "save_path = './gdrive/Shareddrives/ucsd_drive/Data/cve_vectorized.csv'\n",
    "df_vectorized.to_csv(save_path)"
   ]
  },
  {
   "cell_type": "code",
   "execution_count": null,
   "metadata": {
    "id": "TF8LtY1KGqgS"
   },
   "outputs": [],
   "source": [
    "vecs = vecs_stacked"
   ]
  },
  {
   "cell_type": "code",
   "execution_count": null,
   "metadata": {
    "colab": {
     "base_uri": "https://localhost:8080/"
    },
    "id": "a-1-KzUFi-vE",
    "outputId": "954b3435-a017-4e96-b240-5280fdfa1439"
   },
   "outputs": [],
   "source": [
    "import faiss\n",
    "import time\n",
    "\n",
    "cpu_index = faiss.IndexFlatL2(vecs.shape[1])\n",
    "\n",
    "n_gpu = 1\n",
    "\n",
    "print('Number of GPU: {} using {}'.format(faiss.get_num_gpus(), n_gpu))\n",
    "\n",
    "co = faiss.GpuMultipleClonerOptions()\n",
    "co.shard = True\n",
    "\n",
    "gpu_index = faiss.index_cpu_to_all_gpus(cpu_index, co=co, ngpu=n_gpu)\n",
    "\n",
    "t0 = time.time()\n",
    "\n",
    "gpu_index.add(vecs)\n",
    "\n",
    "elapsed = time.time() - t0\n",
    "print('Building index took {} seconds'.format(elapsed))"
   ]
  },
  {
   "cell_type": "code",
   "execution_count": null,
   "metadata": {
    "id": "6w8_UwurjdO8"
   },
   "outputs": [],
   "source": [
    "def find_top_3(input_text_vec):\n",
    "  D, I = gpu_index.search(input_text_vec.reshape(1, 768), k=3)\n",
    "\n",
    "  print('Top 3 results')\n",
    "\n",
    "  for i in range(I.shape[1]):\n",
    "    result_i = I[0, i]\n",
    "    print(result_i)\n",
    "    cve_id = df.iloc[result_i].cve_id\n",
    "    text = df.iloc[result_i].text\n",
    "\n",
    "    print(wrapper.fill(cve_id))\n",
    "    print(wrapper.fill('L2 distance: {}'.format(D[0, i])))\n",
    "    print(wrapper.fill(text))\n",
    "    print('')"
   ]
  },
  {
   "cell_type": "code",
   "execution_count": null,
   "metadata": {
    "id": "FhBTtvbpNxhe"
   },
   "outputs": [],
   "source": [
    "input_text_1 = 'Stack-based buffer overflow in the jpc_tsfb_getbands2 function in jpc_tsfb.c in JasPer before 1.900.30 allows ' \\\n",
    "      'remote attackers to have unspecified impact via a crafted image.'\n",
    "input_text_2 = 'Ubiquiti Networks EdgeSwitch version 1.7.3 and prior suffer from an improperly neutralized element in an OS command ' \\\n",
    "      'due to lack of protection on the admin CLI, leading to code execution and privilege escalation greater than administrators themselves ' \\\n",
    "      'are allowed. An attacker with access to an admin account could escape the restricted CLI and execute arbitrary shell instructions.'\n",
    "input_text_3 = 'A \"javascript:\" url loaded by a malicious page can obfuscate its location by blanking the URL displayed in the addressbar, ' \\\n",
    "      'allowing for an attacker to spoof an existing page without the malicious page\\'s address being displayed correctly. This vulnerability affects Firefox < 52.'\n",
    "input_text_4 = \"Cloud Vulnerability caused by spoofing\"\n",
    "\n",
    "input_text = input_text_4"
   ]
  },
  {
   "cell_type": "code",
   "execution_count": null,
   "metadata": {
    "colab": {
     "base_uri": "https://localhost:8080/"
    },
    "id": "KlXrbd7oNca3",
    "outputId": "0467beec-ea39-4513-eba2-83957c7810e5"
   },
   "outputs": [],
   "source": [
    "logits, vec = text_to_embedding(ui_tokenizer, ui_model, 512, input_text)\n",
    "find_top_3(vec)"
   ]
  }
 ],
 "metadata": {
  "accelerator": "GPU",
  "colab": {
   "collapsed_sections": [],
   "name": "semantic_similarity.ipynb",
   "provenance": [],
   "toc_visible": true
  },
  "kernelspec": {
   "display_name": "Python 3",
   "language": "python",
   "name": "python3"
  },
  "language_info": {
   "codemirror_mode": {
    "name": "ipython",
    "version": 3
   },
   "file_extension": ".py",
   "mimetype": "text/x-python",
   "name": "python",
   "nbconvert_exporter": "python",
   "pygments_lexer": "ipython3",
   "version": "3.9.0"
  }
 },
 "nbformat": 4,
 "nbformat_minor": 1
}
