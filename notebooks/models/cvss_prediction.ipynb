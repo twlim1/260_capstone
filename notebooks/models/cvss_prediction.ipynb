{
  "nbformat": 4,
  "nbformat_minor": 0,
  "metadata": {
    "colab": {
      "name": "cvss_prediction.ipynb",
      "provenance": [],
      "collapsed_sections": [],
      "toc_visible": true
    },
    "kernelspec": {
      "name": "python3",
      "display_name": "Python 3"
    },
    "accelerator": "GPU"
  },
  "cells": [
    {
      "cell_type": "markdown",
      "metadata": {
        "id": "ag-idHELBrp7"
      },
      "source": [
        "# Import packages"
      ]
    },
    {
      "cell_type": "code",
      "metadata": {
        "id": "ahL6P2fCCihZ",
        "colab": {
          "base_uri": "https://localhost:8080/"
        },
        "outputId": "0ff167de-ded2-44ec-8a67-177638d34cbd"
      },
      "source": [
        "import os\n",
        "import pandas as pd\n",
        "import json\n",
        "import matplotlib.pyplot as plt\n",
        "import numpy as np\n",
        "from google.colab import drive\n",
        "\n",
        "!pip install transformers"
      ],
      "execution_count": 2,
      "outputs": [
        {
          "output_type": "stream",
          "text": [
            "Requirement already satisfied: transformers in /usr/local/lib/python3.7/dist-packages (4.4.2)\n",
            "Requirement already satisfied: tqdm>=4.27 in /usr/local/lib/python3.7/dist-packages (from transformers) (4.41.1)\n",
            "Requirement already satisfied: requests in /usr/local/lib/python3.7/dist-packages (from transformers) (2.23.0)\n",
            "Requirement already satisfied: importlib-metadata; python_version < \"3.8\" in /usr/local/lib/python3.7/dist-packages (from transformers) (3.8.1)\n",
            "Requirement already satisfied: filelock in /usr/local/lib/python3.7/dist-packages (from transformers) (3.0.12)\n",
            "Requirement already satisfied: numpy>=1.17 in /usr/local/lib/python3.7/dist-packages (from transformers) (1.19.5)\n",
            "Requirement already satisfied: sacremoses in /usr/local/lib/python3.7/dist-packages (from transformers) (0.0.44)\n",
            "Requirement already satisfied: regex!=2019.12.17 in /usr/local/lib/python3.7/dist-packages (from transformers) (2019.12.20)\n",
            "Requirement already satisfied: packaging in /usr/local/lib/python3.7/dist-packages (from transformers) (20.9)\n",
            "Requirement already satisfied: tokenizers<0.11,>=0.10.1 in /usr/local/lib/python3.7/dist-packages (from transformers) (0.10.2)\n",
            "Requirement already satisfied: idna<3,>=2.5 in /usr/local/lib/python3.7/dist-packages (from requests->transformers) (2.10)\n",
            "Requirement already satisfied: certifi>=2017.4.17 in /usr/local/lib/python3.7/dist-packages (from requests->transformers) (2020.12.5)\n",
            "Requirement already satisfied: urllib3!=1.25.0,!=1.25.1,<1.26,>=1.21.1 in /usr/local/lib/python3.7/dist-packages (from requests->transformers) (1.24.3)\n",
            "Requirement already satisfied: chardet<4,>=3.0.2 in /usr/local/lib/python3.7/dist-packages (from requests->transformers) (3.0.4)\n",
            "Requirement already satisfied: zipp>=0.5 in /usr/local/lib/python3.7/dist-packages (from importlib-metadata; python_version < \"3.8\"->transformers) (3.4.1)\n",
            "Requirement already satisfied: typing-extensions>=3.6.4; python_version < \"3.8\" in /usr/local/lib/python3.7/dist-packages (from importlib-metadata; python_version < \"3.8\"->transformers) (3.7.4.3)\n",
            "Requirement already satisfied: joblib in /usr/local/lib/python3.7/dist-packages (from sacremoses->transformers) (1.0.1)\n",
            "Requirement already satisfied: click in /usr/local/lib/python3.7/dist-packages (from sacremoses->transformers) (7.1.2)\n",
            "Requirement already satisfied: six in /usr/local/lib/python3.7/dist-packages (from sacremoses->transformers) (1.15.0)\n",
            "Requirement already satisfied: pyparsing>=2.0.2 in /usr/local/lib/python3.7/dist-packages (from packaging->transformers) (2.4.7)\n"
          ],
          "name": "stdout"
        }
      ]
    },
    {
      "cell_type": "markdown",
      "metadata": {
        "id": "2Dt-gBnph8x5"
      },
      "source": [
        "# Load the pre-trained models"
      ]
    },
    {
      "cell_type": "code",
      "metadata": {
        "colab": {
          "base_uri": "https://localhost:8080/"
        },
        "id": "aZnR1safiibX",
        "outputId": "8c0f2640-2aab-4249-8b02-17e8295ac181"
      },
      "source": [
        "drive.mount('/content/gdrive')\n",
        "ui_output_dir = './gdrive/Shareddrives/twlim_ucsd_drive/Model/UI'\n",
        "pr_output_dir = './gdrive/Shareddrives/twlim_ucsd_drive/Model/PR'"
      ],
      "execution_count": 4,
      "outputs": [
        {
          "output_type": "stream",
          "text": [
            "Drive already mounted at /content/gdrive; to attempt to forcibly remount, call drive.mount(\"/content/gdrive\", force_remount=True).\n"
          ],
          "name": "stdout"
        }
      ]
    },
    {
      "cell_type": "code",
      "metadata": {
        "colab": {
          "base_uri": "https://localhost:8080/"
        },
        "id": "Nfv-OZTbkIxn",
        "outputId": "c920d695-9821-4891-f784-f3fedcfbffac"
      },
      "source": [
        "import torch\n",
        "\n",
        "# If there's a GPU available...\n",
        "if torch.cuda.is_available():    \n",
        "\n",
        "    # Tell PyTorch to use the GPU.    \n",
        "    device = torch.device('cuda')\n",
        "\n",
        "    print('There are %d GPU(s) available.' % torch.cuda.device_count())\n",
        "\n",
        "    print('We will use the GPU:', torch.cuda.get_device_name(0))\n",
        "\n",
        "# If not...\n",
        "else:\n",
        "    print('No GPU available, using the CPU instead.')\n",
        "    device = torch.device('cpu')"
      ],
      "execution_count": 5,
      "outputs": [
        {
          "output_type": "stream",
          "text": [
            "There are 1 GPU(s) available.\n",
            "We will use the GPU: Tesla T4\n"
          ],
          "name": "stdout"
        }
      ]
    },
    {
      "cell_type": "code",
      "metadata": {
        "colab": {
          "base_uri": "https://localhost:8080/"
        },
        "id": "Q93l4OZbDKbt",
        "outputId": "894a7828-f432-40b3-87ba-3ab410ba641e"
      },
      "source": [
        "from transformers import BertForSequenceClassification, BertTokenizer\n",
        "\n",
        "ui_model = BertForSequenceClassification.from_pretrained(ui_output_dir, output_hidden_states=True)\n",
        "ui_tokenizer = BertTokenizer.from_pretrained(ui_output_dir)\n",
        "ui_model.to(device)\n",
        "\n",
        "pr_model = BertForSequenceClassification.from_pretrained(pr_output_dir, output_hidden_states=True)\n",
        "pr_tokenizer = BertTokenizer.from_pretrained(pr_output_dir)\n",
        "pr_model.to(device)\n",
        "\n",
        "print('All models loaded')"
      ],
      "execution_count": 6,
      "outputs": [
        {
          "output_type": "stream",
          "text": [
            "All models loaded\n"
          ],
          "name": "stdout"
        }
      ]
    },
    {
      "cell_type": "code",
      "metadata": {
        "id": "o47Yj089ErNa"
      },
      "source": [
        "import torch\n",
        "from keras.preprocessing.sequence import pad_sequences\n",
        "\n",
        "def text_to_embedding(tokenizer, model, max_len, in_text):\n",
        "  encoded_dict = tokenizer.encode_plus(\n",
        "                      in_text,                      # Sentence to encode.\n",
        "                      add_special_tokens = True,    # Add '[CLS]' and '[SEP]'\n",
        "                      max_length = max_len,         # Pad & truncate all sentences.\n",
        "                      padding='max_length',\n",
        "                      # pad_to_max_length = True,\n",
        "                      truncation=True,\n",
        "                      return_attention_mask = True, # Construct attn. masks.\n",
        "                      return_tensors = 'pt',        # Return pytorch tensors.\n",
        "                   )\n",
        "  input_ids = encoded_dict['input_ids']\n",
        "  attn_mask = encoded_dict['attention_mask']\n",
        "\n",
        "  model.eval()\n",
        "\n",
        "  input_ids = input_ids.to(device)\n",
        "  attn_mask = attn_mask.to(device)\n",
        "\n",
        "  with torch.no_grad():\n",
        "    result = model(input_ids=input_ids,\n",
        "                   token_type_ids=None,\n",
        "                   attention_mask=attn_mask)\n",
        "\n",
        "  # print(result.hidden_states[12][0][0])\n",
        "  layer_i = 12\n",
        "  batch_i = 0\n",
        "  token_i = 0\n",
        "\n",
        "  logits = result.logits\n",
        "  logits = logits.detach().cpu().numpy()\n",
        "\n",
        "  vec = result.hidden_states[layer_i][batch_i][token_i]\n",
        "  vec = vec.detach().cpu().numpy()\n",
        "\n",
        "  return logits, vec"
      ],
      "execution_count": 7,
      "outputs": []
    },
    {
      "cell_type": "markdown",
      "metadata": {
        "id": "2qkCdBIViDNa"
      },
      "source": [
        "# CVSS and metrics prediction"
      ]
    },
    {
      "cell_type": "code",
      "metadata": {
        "colab": {
          "base_uri": "https://localhost:8080/"
        },
        "id": "SB0z1gNMFFUe",
        "outputId": "dc9ce6a4-9005-4bf2-950f-ac3dc9b376ef"
      },
      "source": [
        "input_text_1 = 'Sudo before 1.6.6 contains an off-by-one error that can result in a heap-based buffer overflow that may allow ' \\\n",
        "      'local users to gain root privileges via special characters in the -p (prompt) argument, which are not properly expanded.'\n",
        "input_text_2 = 'Ubiquiti Networks EdgeSwitch version 1.7.3 and prior suffer from an improperly neutralized element in an OS command ' \\\n",
        "      'due to lack of protection on the admin CLI, leading to code execution and privilege escalation greater than administrators themselves ' \\\n",
        "      'are allowed. An attacker with access to an admin account could escape the restricted CLI and execute arbitrary shell instructions.'\n",
        "input_text_3 = 'A \"javascript:\" url loaded by a malicious page can obfuscate its location by blanking the URL displayed in the addressbar, ' \\\n",
        "      'allowing for an attacker to spoof an existing page without the malicious page\\'s address being displayed correctly. This vulnerability affects Firefox < 52.'\n",
        "input_text_4 = \"stack over flow that caused by user inserting long text in chrome browser address url bar\"\n",
        "\n",
        "input_text = input_text_2\n",
        "len(input_text)"
      ],
      "execution_count": 8,
      "outputs": [
        {
          "output_type": "execute_result",
          "data": {
            "text/plain": [
              "380"
            ]
          },
          "metadata": {
            "tags": []
          },
          "execution_count": 8
        }
      ]
    },
    {
      "cell_type": "code",
      "metadata": {
        "colab": {
          "base_uri": "https://localhost:8080/"
        },
        "id": "dsLAFPkAFGwm",
        "outputId": "60be6f45-9569-49e2-e7a3-abcbf010aaca"
      },
      "source": [
        "import textwrap\n",
        "\n",
        "wrapper = textwrap.TextWrapper(initial_indent='  ', subsequent_indent='  ', width=120)\n",
        "print('Embedding: \\n\\n', wrapper.fill(input_text))\n",
        "\n",
        "print('\\nPredictions:\\n')\n",
        "logits, vec = text_to_embedding(ui_tokenizer, ui_model, 512, input_text)\n",
        "if np.argmax(logits, axis=1) == 0:\n",
        "  print('  UI: None')\n",
        "else:\n",
        "  print('  UI: Required')\n",
        "# print('\\nEmbedding shape:', str(vec.shape))\n",
        "\n",
        "logits, vec = text_to_embedding(pr_tokenizer, pr_model, 512, input_text)\n",
        "if np.argmax(logits, axis=1) == 0:\n",
        "  print('  PR: None')\n",
        "elif np.argmax(logits, axis=1) == 1:\n",
        "  print('  PR: Low')\n",
        "else:\n",
        "  print('  PR: High')\n",
        "# print('\\nEmbedding shape:', str(vec.shape))\n"
      ],
      "execution_count": 9,
      "outputs": [
        {
          "output_type": "stream",
          "text": [
            "Embedding: \n",
            "\n",
            "   Ubiquiti Networks EdgeSwitch version 1.7.3 and prior suffer from an improperly neutralized element in an OS command\n",
            "  due to lack of protection on the admin CLI, leading to code execution and privilege escalation greater than\n",
            "  administrators themselves are allowed. An attacker with access to an admin account could escape the restricted CLI and\n",
            "  execute arbitrary shell instructions.\n",
            "\n",
            "Predictions:\n",
            "\n",
            "  UI: None\n",
            "  PR: High\n"
          ],
          "name": "stdout"
        }
      ]
    },
    {
      "cell_type": "markdown",
      "metadata": {
        "id": "lsPs8zOiiMke"
      },
      "source": [
        "# Semantic similarity search"
      ]
    },
    {
      "cell_type": "markdown",
      "metadata": {
        "id": "KCAI21N8il4t"
      },
      "source": [
        "## KNN"
      ]
    },
    {
      "cell_type": "code",
      "metadata": {
        "id": "tC_b9562G0G-",
        "colab": {
          "base_uri": "https://localhost:8080/"
        },
        "outputId": "61361999-9637-4e6c-f830-f76ab8fca4fa"
      },
      "source": [
        "!pip install faiss\n",
        "!pip install faiss-gpu"
      ],
      "execution_count": 10,
      "outputs": [
        {
          "output_type": "stream",
          "text": [
            "Collecting faiss\n",
            "\u001b[?25l  Downloading https://files.pythonhosted.org/packages/ef/2e/dc5697e9ff6f313dcaf3afe5ca39d7d8334114cbabaed069d0026bbc3c61/faiss-1.5.3-cp37-cp37m-manylinux1_x86_64.whl (4.7MB)\n",
            "\u001b[K     |████████████████████████████████| 4.7MB 7.4MB/s \n",
            "\u001b[?25hRequirement already satisfied: numpy in /usr/local/lib/python3.7/dist-packages (from faiss) (1.19.5)\n",
            "Installing collected packages: faiss\n",
            "Successfully installed faiss-1.5.3\n",
            "Collecting faiss-gpu\n",
            "\u001b[?25l  Downloading https://files.pythonhosted.org/packages/5d/36/383911b8edf8c29cb7e9e8aee4e6b69b0f36c52237e3a06ce64a9551ef22/faiss_gpu-1.7.0-cp37-cp37m-manylinux2014_x86_64.whl (89.4MB)\n",
            "\u001b[K     |████████████████████████████████| 89.4MB 56kB/s \n",
            "\u001b[?25hInstalling collected packages: faiss-gpu\n",
            "Successfully installed faiss-gpu-1.7.0\n"
          ],
          "name": "stdout"
        }
      ]
    },
    {
      "cell_type": "code",
      "metadata": {
        "colab": {
          "base_uri": "https://localhost:8080/"
        },
        "id": "pFJ9nSZClq9O",
        "outputId": "1801b6b7-c41e-4d90-d662-a844e96fb3b9"
      },
      "source": [
        "file_path = './gdrive/Shareddrives/twlim_ucsd_drive/Data/cve.json'\n",
        "with open(file_path, 'r') as fp:\n",
        "    data = json.load(fp) \n",
        "len(data)"
      ],
      "execution_count": 11,
      "outputs": [
        {
          "output_type": "execute_result",
          "data": {
            "text/plain": [
              "150600"
            ]
          },
          "metadata": {
            "tags": []
          },
          "execution_count": 11
        }
      ]
    },
    {
      "cell_type": "code",
      "metadata": {
        "id": "Pd5w_GlNmAh4"
      },
      "source": [
        "cve_id = list()\n",
        "text = list()\n",
        "label = list()\n",
        "for idx in range(len(data)):\n",
        "    try:\n",
        "        if data[idx].get('impact') and data[idx]['impact'].get('baseMetricV3'):\n",
        "            cve_id.append(data[idx]['cve']['CVE_data_meta']['ID'])\n",
        "            text.append(' '.join([text['value'] for text in data[idx]['cve']['description']['description_data']]))\n",
        "            label.append(0 if data[idx]['impact']['baseMetricV3']['cvssV3']['userInteraction'] == 'NONE' else 1)\n",
        "    except KeyError:\n",
        "        print(idx)\n",
        "        break\n",
        "\n",
        "df = pd.DataFrame({'cve_id': cve_id, 'label': label, 'text': text})"
      ],
      "execution_count": 12,
      "outputs": []
    },
    {
      "cell_type": "code",
      "metadata": {
        "colab": {
          "base_uri": "https://localhost:8080/"
        },
        "id": "H9x_J5yomFqO",
        "outputId": "e9d5d6ac-3afe-41ff-9692-becd66667a4a"
      },
      "source": [
        "sentences = df.text.values[:1000]\n",
        "len(sentences)"
      ],
      "execution_count": 13,
      "outputs": [
        {
          "output_type": "execute_result",
          "data": {
            "text/plain": [
              "1000"
            ]
          },
          "metadata": {
            "tags": []
          },
          "execution_count": 13
        }
      ]
    },
    {
      "cell_type": "code",
      "metadata": {
        "id": "4rFhe-J2mKmj"
      },
      "source": [
        "vecs = list()\n",
        "for input_text in sentences:\n",
        "  logits, vec = text_to_embedding(ui_tokenizer, ui_model, 512, input_text)\n",
        "  vecs.append(vec)\n",
        "vecs = np.array(vecs)"
      ],
      "execution_count": 14,
      "outputs": []
    },
    {
      "cell_type": "code",
      "metadata": {
        "colab": {
          "base_uri": "https://localhost:8080/"
        },
        "id": "a-1-KzUFi-vE",
        "outputId": "af34ade9-6ba2-4979-8e80-7fb46e7e61ce"
      },
      "source": [
        "import faiss\n",
        "import time\n",
        "\n",
        "cpu_index = faiss.IndexFlatL2(vecs.shape[1])\n",
        "\n",
        "n_gpu = 1\n",
        "\n",
        "print('Number of GPU: {} using {}'.format(faiss.get_num_gpus(), n_gpu))\n",
        "\n",
        "co = faiss.GpuMultipleClonerOptions()\n",
        "co.shard = True\n",
        "\n",
        "gpu_index = faiss.index_cpu_to_all_gpus(cpu_index, co=co, ngpu=n_gpu)\n",
        "\n",
        "t0 = time.time()\n",
        "\n",
        "gpu_index.add(vecs)\n",
        "\n",
        "elapsed = time.time() - t0\n",
        "print('Building index took {} seconds'.format(elapsed))"
      ],
      "execution_count": 15,
      "outputs": [
        {
          "output_type": "stream",
          "text": [
            "Number of GPU: 1 using 1\n",
            "Building index took 0.0015549659729003906 seconds\n"
          ],
          "name": "stdout"
        }
      ]
    },
    {
      "cell_type": "code",
      "metadata": {
        "id": "6w8_UwurjdO8"
      },
      "source": [
        "def find_top_3(input_text_vec):\n",
        "  D, I = gpu_index.search(input_text_vec.reshape(1, 768), k=3)\n",
        "\n",
        "  print('Top 3 results')\n",
        "\n",
        "  for i in range(I.shape[1]):\n",
        "    result_i = I[0, i]\n",
        "    print(result_i)\n",
        "    cve_id = df.iloc[result_i].cve_id\n",
        "    text = df.iloc[result_i].text\n",
        "\n",
        "    print(wrapper.fill(cve_id))\n",
        "    print(wrapper.fill('L2 distance: {}'.format(D[0, i])))\n",
        "    print(wrapper.fill(text))\n",
        "    print('')"
      ],
      "execution_count": 16,
      "outputs": []
    },
    {
      "cell_type": "code",
      "metadata": {
        "colab": {
          "base_uri": "https://localhost:8080/",
          "height": 35
        },
        "id": "0qc_WjOwOEjV",
        "outputId": "1cdba193-13f6-40a3-9e50-41df4c1ee6c5"
      },
      "source": [
        "sentences[0]"
      ],
      "execution_count": 17,
      "outputs": [
        {
          "output_type": "execute_result",
          "data": {
            "application/vnd.google.colaboratory.intrinsic+json": {
              "type": "string"
            },
            "text/plain": [
              "'Stack-based buffer overflow in the jpc_tsfb_getbands2 function in jpc_tsfb.c in JasPer before 1.900.30 allows remote attackers to have unspecified impact via a crafted image.'"
            ]
          },
          "metadata": {
            "tags": []
          },
          "execution_count": 17
        }
      ]
    },
    {
      "cell_type": "code",
      "metadata": {
        "id": "FhBTtvbpNxhe"
      },
      "source": [
        "input_text_1 = 'Stack-based buffer overflow in the jpc_tsfb_getbands2 function in jpc_tsfb.c in JasPer before 1.900.30 allows ' \\\n",
        "      'remote attackers to have unspecified impact via a crafted image.'\n",
        "input_text_2 = 'Ubiquiti Networks EdgeSwitch version 1.7.3 and prior suffer from an improperly neutralized element in an OS command ' \\\n",
        "      'due to lack of protection on the admin CLI, leading to code execution and privilege escalation greater than administrators themselves ' \\\n",
        "      'are allowed. An attacker with access to an admin account could escape the restricted CLI and execute arbitrary shell instructions.'\n",
        "input_text_3 = 'A \"javascript:\" url loaded by a malicious page can obfuscate its location by blanking the URL displayed in the addressbar, ' \\\n",
        "      'allowing for an attacker to spoof an existing page without the malicious page\\'s address being displayed correctly. This vulnerability affects Firefox < 52.'\n",
        "input_text_4 = \"stack over flow that caused by user inserting long text in chrome browser address url bar\"\n",
        "input_text = input_text_4"
      ],
      "execution_count": 20,
      "outputs": []
    },
    {
      "cell_type": "code",
      "metadata": {
        "colab": {
          "base_uri": "https://localhost:8080/"
        },
        "id": "KlXrbd7oNca3",
        "outputId": "30aa2c61-e11b-4fff-8b0a-559c40fa67a5"
      },
      "source": [
        "logits, vec = text_to_embedding(ui_tokenizer, ui_model, 512, input_text)\n",
        "find_top_3(vec)\n"
      ],
      "execution_count": 21,
      "outputs": [
        {
          "output_type": "stream",
          "text": [
            "Top 3 results\n",
            "123\n",
            "  CVE-2020-26519\n",
            "  L2 distance: 22.360809326171875\n",
            "  Artifex MuPDF before 1.18.0 has a heap based buffer over-write when parsing JBIG2 files allowing attackers to cause a\n",
            "  denial of service.\n",
            "\n",
            "487\n",
            "  CVE-2020-35522\n",
            "  L2 distance: 24.911407470703125\n",
            "  In LibTIFF, there is a memory malloc failure in tif_pixarlog.c. A crafted TIFF document can lead to an abort,\n",
            "  resulting in a remote denial of service attack.\n",
            "\n",
            "823\n",
            "  CVE-2017-9937\n",
            "  L2 distance: 25.4649658203125\n",
            "  In LibTIFF 4.0.8, there is a memory malloc failure in tif_jbig.c. A crafted TIFF document can lead to an abort\n",
            "  resulting in a remote denial of service attack.\n",
            "\n"
          ],
          "name": "stdout"
        }
      ]
    }
  ]
}