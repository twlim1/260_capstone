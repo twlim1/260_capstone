{
 "cells": [
  {
   "cell_type": "code",
   "execution_count": 6,
   "id": "equal-marketplace",
   "metadata": {},
   "outputs": [],
   "source": [
    "import os\n",
    "import json"
   ]
  },
  {
   "cell_type": "code",
   "execution_count": 7,
   "id": "ethical-farming",
   "metadata": {},
   "outputs": [],
   "source": [
    "with open('Data/all_CVE_data.json') as f:\n",
    "    cve_dict = json.load(f)"
   ]
  },
  {
   "cell_type": "code",
   "execution_count": 4,
   "id": "lonely-stereo",
   "metadata": {},
   "outputs": [],
   "source": [
    "file_name = 'data/all_CVE_text.txt'"
   ]
  },
  {
   "cell_type": "code",
   "execution_count": 5,
   "id": "retained-mitchell",
   "metadata": {},
   "outputs": [
    {
     "ename": "KeyError",
     "evalue": "'CVE_Items'",
     "output_type": "error",
     "traceback": [
      "\u001b[0;31m---------------------------------------------------------------------------\u001b[0m",
      "\u001b[0;31mKeyError\u001b[0m                                  Traceback (most recent call last)",
      "\u001b[0;32m<ipython-input-5-bcecb65f601b>\u001b[0m in \u001b[0;36m<module>\u001b[0;34m\u001b[0m\n\u001b[1;32m      6\u001b[0m \u001b[0;34m\u001b[0m\u001b[0m\n\u001b[1;32m      7\u001b[0m \u001b[0;32mwith\u001b[0m \u001b[0mopen\u001b[0m\u001b[0;34m(\u001b[0m\u001b[0mfile_name\u001b[0m\u001b[0;34m,\u001b[0m \u001b[0;34m'w'\u001b[0m\u001b[0;34m)\u001b[0m \u001b[0;32mas\u001b[0m \u001b[0mf\u001b[0m\u001b[0;34m:\u001b[0m\u001b[0;34m\u001b[0m\u001b[0;34m\u001b[0m\u001b[0m\n\u001b[0;32m----> 8\u001b[0;31m     \u001b[0;32mfor\u001b[0m \u001b[0mcve\u001b[0m \u001b[0;32min\u001b[0m \u001b[0mcve_dict\u001b[0m\u001b[0;34m[\u001b[0m\u001b[0;34m'CVE_Items'\u001b[0m\u001b[0;34m]\u001b[0m\u001b[0;34m:\u001b[0m\u001b[0;34m\u001b[0m\u001b[0;34m\u001b[0m\u001b[0m\n\u001b[0m\u001b[1;32m      9\u001b[0m         \u001b[0mdesc_list\u001b[0m \u001b[0;34m=\u001b[0m \u001b[0mcve\u001b[0m\u001b[0;34m[\u001b[0m\u001b[0;34m'cve'\u001b[0m\u001b[0;34m]\u001b[0m\u001b[0;34m[\u001b[0m\u001b[0;34m'description'\u001b[0m\u001b[0;34m]\u001b[0m\u001b[0;34m[\u001b[0m\u001b[0;34m'description_data'\u001b[0m\u001b[0;34m]\u001b[0m\u001b[0;34m\u001b[0m\u001b[0;34m\u001b[0m\u001b[0m\n\u001b[1;32m     10\u001b[0m         \u001b[0;32mfor\u001b[0m \u001b[0mdesc\u001b[0m \u001b[0;32min\u001b[0m \u001b[0mdesc_list\u001b[0m\u001b[0;34m:\u001b[0m\u001b[0;34m\u001b[0m\u001b[0;34m\u001b[0m\u001b[0m\n",
      "\u001b[0;31mKeyError\u001b[0m: 'CVE_Items'"
     ]
    }
   ],
   "source": [
    "if os.path.exists(file_name): \n",
    "    os.remove(file_name)\n",
    "\n",
    "counter = 0\n",
    "LIMIT = 100000\n",
    "\n",
    "with open(file_name, 'w') as f:\n",
    "    for cve in cve_dict['CVE_Items']:\n",
    "        desc_list = cve['cve']['description']['description_data']\n",
    "        for desc in desc_list:\n",
    "            f.write(desc['value'] +'\\n.\\n')\n",
    "        counter += 1\n",
    "        if counter == LIMIT:\n",
    "            break"
   ]
  },
  {
   "cell_type": "code",
   "execution_count": null,
   "id": "lightweight-causing",
   "metadata": {},
   "outputs": [],
   "source": []
  }
 ],
 "metadata": {
  "kernelspec": {
   "display_name": "Python 3",
   "language": "python",
   "name": "python3"
  },
  "language_info": {
   "codemirror_mode": {
    "name": "ipython",
    "version": 3
   },
   "file_extension": ".py",
   "mimetype": "text/x-python",
   "name": "python",
   "nbconvert_exporter": "python",
   "pygments_lexer": "ipython3",
   "version": "3.7.7"
  }
 },
 "nbformat": 4,
 "nbformat_minor": 5
}
