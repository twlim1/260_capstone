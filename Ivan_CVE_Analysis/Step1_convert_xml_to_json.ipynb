{
 "cells": [
  {
   "cell_type": "code",
   "execution_count": null,
   "metadata": {},
   "outputs": [],
   "source": [
    "# Program to convert an xml \n",
    "# file to json file \n",
    "  \n",
    "# import json module and xmltodict \n",
    "# module provided by python \n",
    "import json \n",
    "import xmltodict \n",
    "import urllib.request\n",
    "import gzip\n",
    "from os import path"
   ]
  },
  {
   "cell_type": "markdown",
   "metadata": {},
   "source": [
    "## Download all CVE items if not already downloaded"
   ]
  },
  {
   "cell_type": "code",
   "execution_count": 2,
   "metadata": {},
   "outputs": [
    {
     "name": "stdout",
     "output_type": "stream",
     "text": [
      "[START] CVE Data Download\n",
      "[COMPLETE] CVE Data Download\n",
      "[START] GZ file decompression\n",
      "[COMPLETE] GZ file decompression\n",
      "done\n"
     ]
    }
   ],
   "source": [
    "##Download CVE data\n",
    "if not path.exists('Data/CVE_allitems.xml'):\n",
    "    print('[START] CVE Data Download')\n",
    "    url = 'https://cve.mitre.org/data/downloads/allitems.xml.gz'\n",
    "    urllib.request.urlretrieve(url, 'Data/CVE_allitems.xml.gz')\n",
    "    print('[COMPLETE] CVE Data Download')\n",
    "\n",
    "    print('[START] GZ file decompression')\n",
    "    input = gzip.GzipFile(\"Data/CVE_allitems.xml.gz\", 'rb')\n",
    "    s = input.read()\n",
    "    input.close()\n",
    "\n",
    "    output = open(\"Data/CVE_allitems.xml\", 'wb')\n",
    "    output.write(s)\n",
    "    output.close()\n",
    "    print('[COMPLETE] GZ file decompression')\n",
    "\n",
    "print(\"done\")"
   ]
  },
  {
   "cell_type": "code",
   "execution_count": 3,
   "metadata": {},
   "outputs": [
    {
     "name": "stdout",
     "output_type": "stream",
     "text": [
      "[START] XML to JSON Conversion\n",
      "[COMPLETE] XML to JSON Conversion\n"
     ]
    }
   ],
   "source": [
    "# open the input xml file and read \n",
    "# data in form of python dictionary  \n",
    "# using xmltodict module \n",
    "print('[START] XML to JSON Conversion')\n",
    "with open(\"Data/CVE_allitems.xml\") as xml_file: \n",
    "      \n",
    "    data_dict = xmltodict.parse(xml_file.read()) \n",
    "    xml_file.close() \n",
    "      \n",
    "    # generate the object using json.dumps()  \n",
    "    # corresponding to json data \n",
    "      \n",
    "    json_data = json.dumps(data_dict) \n",
    "      \n",
    "    # Write the json data to output  \n",
    "    # json file \n",
    "    \n",
    "    with open(\"Data/all_CVE_data.json\", \"w\") as json_file: \n",
    "        json_file.write(json_data) \n",
    "        json_file.close()\n",
    "    print('[COMPLETE] XML to JSON Conversion')\n",
    "print(done)"
   ]
  }
 ],
 "metadata": {
  "kernelspec": {
   "display_name": "Python 3",
   "language": "python",
   "name": "python3"
  },
  "language_info": {
   "codemirror_mode": {
    "name": "ipython",
    "version": 3
   },
   "file_extension": ".py",
   "mimetype": "text/x-python",
   "name": "python",
   "nbconvert_exporter": "python",
   "pygments_lexer": "ipython3",
   "version": "3.7.7"
  }
 },
 "nbformat": 4,
 "nbformat_minor": 4
}
