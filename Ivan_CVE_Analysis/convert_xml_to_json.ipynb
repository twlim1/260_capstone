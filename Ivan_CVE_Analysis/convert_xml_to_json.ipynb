{
 "cells": [
  {
   "cell_type": "code",
   "execution_count": 6,
   "metadata": {},
   "outputs": [],
   "source": [
    "# Program to convert an xml \n",
    "# file to json file \n",
    "  \n",
    "# import json module and xmltodict \n",
    "# module provided by python \n",
    "import json \n",
    "import xmltodict "
   ]
  },
  {
   "cell_type": "code",
   "execution_count": 7,
   "metadata": {},
   "outputs": [],
   "source": [
    "# open the input xml file and read \n",
    "# data in form of python dictionary  \n",
    "# using xmltodict module \n",
    "with open(\"Data/CVE_allitems.xml\") as xml_file: \n",
    "      \n",
    "    data_dict = xmltodict.parse(xml_file.read()) \n",
    "    xml_file.close() \n",
    "      \n",
    "    # generate the object using json.dumps()  \n",
    "    # corresponding to json data \n",
    "      \n",
    "    json_data = json.dumps(data_dict) \n",
    "      \n",
    "    # Write the json data to output  \n",
    "    # json file \n",
    "    with open(\"all_CVE_data.json\", \"w\") as json_file: \n",
    "        json_file.write(json_data) \n",
    "        json_file.close()"
   ]
  }
 ],
 "metadata": {
  "kernelspec": {
   "display_name": "Python 3",
   "language": "python",
   "name": "python3"
  },
  "language_info": {
   "codemirror_mode": {
    "name": "ipython",
    "version": 3
   },
   "file_extension": ".py",
   "mimetype": "text/x-python",
   "name": "python",
   "nbconvert_exporter": "python",
   "pygments_lexer": "ipython3",
   "version": "3.7.7"
  }
 },
 "nbformat": 4,
 "nbformat_minor": 4
}
