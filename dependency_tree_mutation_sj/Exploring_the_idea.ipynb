{
 "cells": [
  {
   "cell_type": "markdown",
   "id": "subtle-judgment",
   "metadata": {},
   "source": [
    "https://nlp.stanford.edu/pubs/USD_LREC14_paper_camera_ready.pdf  \n",
    "https://spacy.io/models/en#en_core_web_lg  \n",
    "https://universaldependencies.org/u/dep/  \n",
    "https://universaldependencies.org/en/dep/  \n",
    "https://spacy.io/usage/linguistic-features#dependency-parse  \n",
    "https://spacy.io/usage/linguistic-features  \n",
    "https://spacy.io/usage/visualizers  \n",
    "https://github.com/aoldoni/tetre/blob/a8b07aa47a9adf7dce46dff96e20be63a761e9f7/lib/tetre/graph_processing.py  \n",
    "https://spacy.io/usage/saving-loading\n",
    "https://stackoverflow.com/questions/36610179/how-to-get-the-dependency-tree-with-spacy"
   ]
  },
  {
   "cell_type": "markdown",
   "id": "narrative-suffering",
   "metadata": {},
   "source": [
    "|dep_tag |dep_tag    |dep_tag    |dep_tag    |\n",
    "|--------|-----------|-----------|-----------|\n",
    "|ROOT    |intj       |auxpass    |parataxis  |\n",
    "|acl     |mark       |case       |pcomp      |\n",
    "|acomp   |meta       |cc         |pobj       |\n",
    "|advcl   |neg        |ccomp      |poss       |\n",
    "|advmod  |nmod       |compound   |preconj    |\n",
    "|agent   |npadvmod   |conj       |predet     |\n",
    "|amod    |nsubj      |csubj      |prep       |\n",
    "|appos   |nsubjpass  |csubjpass  |prt        |\n",
    "|attr    |nummod     |dative     |punct      |\n",
    "|aux     |oprd       |dep        |quantmod   |\n",
    "|dobj    |expl       |det        |relcl      |\n",
    "|xcomp   |           |           |           |\n"
   ]
  },
  {
   "cell_type": "markdown",
   "id": "linear-opinion",
   "metadata": {},
   "source": [
    "obj-like relations: Direct Object (dobj ); Object of Preposition (pobj ), Indirect Object (iobj );  \n",
    "subj-like relations: Nominal Subject (nsubj ), Clausal Subject (csubj ), Passive Nominal Subject (nsubjpass), Passive Clausal Subject (csubj-pass)  \n",
    "mod-like relations: Noun Phrase Adverbial Modifier (npadvmod), Adjectival Modifier (amod), Adverbial Modifier (advmod), Numeric Mod-\n",
    "ifier (nummod), Quantifier Modifier (quantmod), Relative Clause Modifier (rcmod), Temporal Modifier (tmod), Reduced Non-finite Verbal Modifier (vmod)"
   ]
  }
 ],
 "metadata": {
  "kernelspec": {
   "display_name": "Python 3",
   "language": "python",
   "name": "python3"
  },
  "language_info": {
   "codemirror_mode": {
    "name": "ipython",
    "version": 3
   },
   "file_extension": ".py",
   "mimetype": "text/x-python",
   "name": "python",
   "nbconvert_exporter": "python",
   "pygments_lexer": "ipython3",
   "version": "3.8.5"
  }
 },
 "nbformat": 4,
 "nbformat_minor": 5
}
