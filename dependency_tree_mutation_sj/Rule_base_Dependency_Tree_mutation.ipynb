{
 "cells": [
  {
   "cell_type": "code",
   "execution_count": 1,
   "id": "physical-grounds",
   "metadata": {},
   "outputs": [],
   "source": [
    "import os\n",
    "import re\n",
    "import pandas as pd\n",
    "import numpy as np\n",
    "from tqdm.notebook import tqdm\n",
    "import json\n",
    "\n",
    "import spacy\n",
    "from spacy.tokens import Doc\n",
    "from spacy.tokens import Span\n",
    "from spacy.tokens import Token\n",
    "# Load English tokenizer, tagger, parser, NER and word vectors\n",
    "nlp = spacy.load(\"en_core_web_lg\")\n",
    "\n",
    "import pprint\n",
    "pp = pprint.PrettyPrinter(indent=4)\n",
    "\n",
    "import matplotlib.pyplot as plt\n",
    "import seaborn as sns; sns.set_theme()\n",
    "import collections\n",
    "\n",
    "from itertools import chain\n",
    "\n",
    "from IPython.core.display import display, HTML\n",
    "from nltk import Tree"
   ]
  },
  {
   "cell_type": "code",
   "execution_count": 2,
   "id": "center-creativity",
   "metadata": {},
   "outputs": [],
   "source": [
    "SUBJ_LIKE_RELATIONS = ['nsubj', 'csubj', 'nsubjpass', 'csubjpass']\n",
    "OBJ_LIKE_RELATIONS = ['dobj', 'pobj', 'iobj']\n",
    "MOD_LIKE_RELATIONS = ['npadvmod', 'amod', 'advmod', 'nummod', 'quantmod', 'rcmod', 'tmod', 'vmod']\n",
    "\n",
    "RULE_1_POS_LIST = ['NOUN', 'PROPN', 'VERB', 'NUM', 'PRON', 'X']\n",
    "\n",
    "Token.set_extension(\"is_included\", default=True, force=True)"
   ]
  },
  {
   "cell_type": "code",
   "execution_count": 3,
   "id": "discrete-davis",
   "metadata": {},
   "outputs": [],
   "source": [
    "# Utility functions\n",
    "def tok_format(tok):\n",
    "    return f'{tok.orth_}({tok.dep_})'\n",
    "\n",
    "def to_nltk_tree(node):\n",
    "    if node.n_lefts + node.n_rights > 0:\n",
    "        return Tree(tok_format(node), [to_nltk_tree(child) for child in node.children if child._.is_included])\n",
    "    else:\n",
    "        return tok_format(node)\n",
    "    \n",
    "def print_subtree(subtr, main_node):\n",
    "    msg = '['\n",
    "    for t in subtr:\n",
    "        if t.text == main_node:\n",
    "            msg = msg.strip()\n",
    "            msg += f']--({t.text})-->['\n",
    "        else:\n",
    "            if t.dep_ == 'punct':\n",
    "                msg = msg.strip()\n",
    "            msg += f'{t.text} '\n",
    "            if t.dep_ == 'punct':\n",
    "                msg = msg.strip()\n",
    "    \n",
    "    msg = msg.strip()\n",
    "    msg += ']'\n",
    "    display(HTML(f'<h4 style=\"color: red\">{msg}</h4>'))\n"
   ]
  },
  {
   "cell_type": "markdown",
   "id": "labeled-baptist",
   "metadata": {},
   "source": [
    "# Rule 1\n",
    "### (Growth)\n",
    "If the edge to the head node is of the type relcl or ccomp, and the existing subj-like child node does not have the POS tag NOUN, PROPN, VERB, NUM, PRON, or X, replace the subj-like child node with the immediate head node. If there is no subj-like child node, simply move the head node as to be its subj-like child."
   ]
  },
  {
   "cell_type": "code",
   "execution_count": 4,
   "id": "northern-aluminum",
   "metadata": {},
   "outputs": [],
   "source": [
    "def is_edge_of_node_to_its_head_relcl_or_ccomp(node):\n",
    "    return any([node.dep_ == 'relcl', \n",
    "                node.dep_ == 'ccomp'])\n",
    "\n",
    "def is_subj_like(node):\n",
    "    return node.dep_ in SUBJ_LIKE_RELATIONS\n",
    "    \n",
    "def get_subj_like_children(node):\n",
    "    subj_like_children_list = [child for child in node.children if is_subj_like(child)]\n",
    "    return subj_like_children_list\n",
    "\n",
    "def has_a_single_subj_like_child(node):\n",
    "    subj_like_children = get_subj_like_children(node)\n",
    "    if len(subj_like_children) > 1:\n",
    "        raise ValueError(f'Too many subj like children. Node: {node.text}')\n",
    "    return len(subj_like_children)\n",
    "\n",
    "def has_unwanted_POS(node):\n",
    "    return node.pos_ in RULE_1_POS_LIST\n",
    "\n",
    "# Rule 7\n",
    "def remove_punct_children(node):\n",
    "    for c in node.subtree:\n",
    "        if c.dep_ == 'punct':\n",
    "            c._.is_included = False\n",
    "            \n",
    "def Growth_replace_subj_if_dep_is_relcl_or_ccomp(sentence, target_word):\n",
    "    spn = sentence[0:]\n",
    "    for node in spn:\n",
    "        if node.text != target_word:\n",
    "            continue\n",
    "            \n",
    "        if not is_edge_of_node_to_its_head_relcl_or_ccomp(node):\n",
    "            continue\n",
    "        \n",
    "        # move the node to be direct child of its ancestor\n",
    "        ancestor_head = node.head.head\n",
    "        node_old_head = node.head # keep track of old node before changing it\n",
    "        node.head = ancestor_head\n",
    "        \n",
    "        # move the head node as to be its subj-like child\n",
    "        node_old_head.head = node\n",
    "        # TODO: Edges are not updated after chaning the heads\n",
    "        \n",
    "        if has_a_single_subj_like_child(node):\n",
    "            subj_like_child = get_subj_like_children(node)[0] # It must have only one child\n",
    "            if not has_unwanted_POS(subj_like_child):\n",
    "                subj_like_child._.is_included = False\n",
    "                \n",
    "        remove_punct_children(node)\n",
    "        \n",
    "        return [n for n in node.subtree if n._.is_included]\n",
    "    \n"
   ]
  },
  {
   "cell_type": "markdown",
   "id": "adequate-speech",
   "metadata": {},
   "source": [
    "# Rule 1 examples"
   ]
  },
  {
   "cell_type": "code",
   "execution_count": 5,
   "id": "informational-antenna",
   "metadata": {},
   "outputs": [
    {
     "name": "stdout",
     "output_type": "stream",
     "text": [
      "~~~~~~~~ BEFORE: \n",
      "                                                       is(ROOT)                                                                                                            \n",
      "    ______________________________________________________|__________________________________________                                                                       \n",
      "   |           |          |         |                                                           system(attr)                                                               \n",
      "   |           |          |         |         _______________________________________________________|_______________________________                                       \n",
      "   |           |          |         |        |            |                    database(compoun                                 uses(relcl)                                \n",
      "   |           |          |         |        |            |                           d)                                             |                                     \n",
      "   |           |          |         |        |            |                           |                            __________________|____________                          \n",
      "   |           |          |     Demo(dep)    |            |                    memory(compound)                   |                         strategy(dobj)                 \n",
      "   |           |          |         |        |            |              _____________|______________             |         ______________________|_______________          \n",
      ";(punct) Calvin(nsubj) .(punct)            a(det) distributed(amod) main(amod)                    -(punct)   that(nsubj) a(det)             deterministic( execution(compou\n",
      "                                (compound)                                                                                                      amod)            nd)       \n",
      "\n",
      "                                           is(ROOT)                                                                          \n",
      "    __________________________________________|______________________________                                                 \n",
      "   |           |          |         |                                   uses(relcl)                                          \n",
      "   |           |          |         |                        ________________|______________________                          \n",
      "   |           |          |         |                  system(attr)                                 |                        \n",
      "   |           |          |         |          _____________|________________                       |                         \n",
      "   |           |          |         |         |             |         database(compoun              |                        \n",
      "   |           |          |         |         |             |                d)                     |                        \n",
      "   |           |          |         |         |             |                |                      |                         \n",
      "   |           |          |     Demo(dep)     |             |         memory(compound)        strategy(dobj)                 \n",
      "   |           |          |         |         |             |                |            __________|_______________          \n",
      ";(punct) Calvin(nsubj) .(punct)             a(det)  distributed(amod)    main(amod)    a(det) deterministic( execution(compou\n",
      "                                (compound)                                                        amod)            nd)       \n",
      "\n",
      "----------------------------------------------------------------------------------------------------\n"
     ]
    },
    {
     "data": {
      "text/html": [
       "<h4>\n",
       "Demo; Calvin is a distributed main-memory database system that uses a deterministic execution strategy.</h4>"
      ],
      "text/plain": [
       "<IPython.core.display.HTML object>"
      ]
     },
     "metadata": {},
     "output_type": "display_data"
    },
    {
     "data": {
      "text/html": [
       "<h4 style=\"color: red\">[a distributed main memory database system]--(uses)-->[a deterministic execution strategy]</h4>"
      ],
      "text/plain": [
       "<IPython.core.display.HTML object>"
      ]
     },
     "metadata": {},
     "output_type": "display_data"
    },
    {
     "name": "stdout",
     "output_type": "stream",
     "text": [
      "----------------------------------------------------------------------------------------------------\n",
      "~~~~~~~~ BEFORE: \n",
      "                                                                              contain(ROOT)                                                                                                             \n",
      "    ________________________________________________________________________________|______________________________________________________________                                                      \n",
      "   |                                          10138(nsubj)                                                                                   service(dobj)                                              \n",
      "   |          _____________________________________|________________________________                                    ___________________________|____________                                         \n",
      "   |         |             |            |          |                           Backup(conj)                            |           |                       uses(relcl)                                  \n",
      "   |         |             |            |          |                ________________|_______________________           |           |                ____________|_____________                           \n",
      "   |         |             |            |          |               |                |           |     Protect(conj)    |           |               |                   component(dobj)                  \n",
      "   |         |             |            |          |               |                |           |           |          |           |               |             _____________|________________          \n",
      ".(punct)            CVE-2020(compoun -(punct)   ;(punct)   Acronis(compound) Cyber(compound) and(cc) Cyber(compound) a(det) privileged(amod)  that(nsubj)   this(det)                  OpenSSL(compound)\n",
      "         (compound)        d)                                                                                                                                                                           \n",
      "\n",
      "                                                                              contain(ROOT)                                                                                                                       \n",
      "    ________________________________________________________________________________|___________________________________________________________________________                                                   \n",
      "   |                                          10138(nsubj)                                                                                                      |                                                 \n",
      "   |          _____________________________________|________________________________                                                                            |                                                  \n",
      "   |         |             |            |          |                           Backup(conj)                                                                uses(relcl)                                            \n",
      "   |         |             |            |          |                ________________|_______________________                       _____________________________|_______________________                           \n",
      "   |         |             |            |          |               |                |           |     Protect(conj)         service(dobj)                                        component(dobj)                  \n",
      "   |         |             |            |          |               |                |           |           |           __________|______________                           ____________|________________          \n",
      ".(punct)            CVE-2020(compoun -(punct)   ;(punct)   Acronis(compound) Cyber(compound) and(cc) Cyber(compound) a(det)               privileged(amod)             this(det)                 OpenSSL(compound)\n",
      "         (compound)        d)                                                                                                                                                                                     \n",
      "\n",
      "----------------------------------------------------------------------------------------------------\n"
     ]
    },
    {
     "data": {
      "text/html": [
       "<h4>\n",
       "CVE-2020-10138; Acronis Cyber Backup and Cyber Protect contain a privileged service that uses this OpenSSL component.</h4>"
      ],
      "text/plain": [
       "<IPython.core.display.HTML object>"
      ]
     },
     "metadata": {},
     "output_type": "display_data"
    },
    {
     "data": {
      "text/html": [
       "<h4 style=\"color: red\">[a privileged service]--(uses)-->[this OpenSSL component]</h4>"
      ],
      "text/plain": [
       "<IPython.core.display.HTML object>"
      ]
     },
     "metadata": {},
     "output_type": "display_data"
    },
    {
     "name": "stdout",
     "output_type": "stream",
     "text": [
      "----------------------------------------------------------------------------------------------------\n",
      "~~~~~~~~ BEFORE: \n",
      "                                                                                                                           is(ROOT)                                                                                                                                                   \n",
      "    __________________________________________________________________________________________________________________________|_________________________________________                                                                                                               \n",
      "   |            |           |          |         |                       |                                                                                        documentation(                                                                                                      \n",
      "   |            |           |          |         |                       |                                                                                            attr)                                                                                                           \n",
      "   |            |           |          |         |                       |                         _____________________________________________________________________|_____________________________                                                                                 \n",
      "   |            |           |          |         |                       |                        |             |             |                                                                  showing(acl)                                                                         \n",
      "   |            |           |          |         |                       |                        |             |             |                                                                       |                                                                                \n",
      "   |            |           |          |         |                       |                        |             |             |                                                                 enable(xcomp)                                                                         \n",
      "   |            |           |          |         |                       |                        |             |             |            ___________________________________________________________|______________________________________________                                  \n",
      "   |            |           |          |         |                       |                        |             |             |           |         |                                  |                                                          in(prep)                            \n",
      "   |            |           |          |         |                       |                        |             |             |           |         |                                  |                                                             |                                 \n",
      "   |            |           |          |         |                       |                        |             |             |           |         |                                  |                                                     application(pobj)                        \n",
      "   |            |           |          |         |                       |                        |             |             |           |         |                                  |                                                _____________|______________                   \n",
      "   |            |           |          |         |                   10683(dep)                   |             |         from(prep)      |         |                            behavior(dobj)                                        |                       uses(relcl)            \n",
      "   |            |           |          |         |          _____________|____________            |             |             |           |         |        __________________________|____________________________________           |              ______________|___________       \n",
      ";(punct) However(advmod) ,(punct) there(expl) .(punct)            CVE-2020(compoun -(punct) popular(amod) external(amod) OWASP(pobj) how(advmod) to(aux) the(det)   safe(amod)      ,(punct)      non(amod)   -(amod) default(amod) any(det)    that(nsubj)                dom4j(dobj)\n",
      "                                                       (compound)        d)                                                                                                                                                                                                           \n",
      "\n",
      "                                                                                                                           is(ROOT)                                                                                                                                      \n",
      "    __________________________________________________________________________________________________________________________|_________________________________________                                                                                                  \n",
      "   |            |           |          |         |                       |                                                                                        documentation(                                                                                         \n",
      "   |            |           |          |         |                       |                                                                                            attr)                                                                                              \n",
      "   |            |           |          |         |                       |                         _____________________________________________________________________|______________                                                                                   \n",
      "   |            |           |          |         |                       |                        |             |             |                                                   showing(acl)                                                                           \n",
      "   |            |           |          |         |                       |                        |             |             |                                                        |                                                                                  \n",
      "   |            |           |          |         |                       |                        |             |             |                                                  enable(xcomp)                                                                           \n",
      "   |            |           |          |         |                       |                        |             |             |            ____________________________________________|_________________________________________________________                         \n",
      "   |            |           |          |         |                       |                        |             |             |           |         |                                  |                                                      in(prep)                   \n",
      "   |            |           |          |         |                       |                        |             |             |           |         |                                  |                                                         |                        \n",
      "   |            |           |          |         |                       |                        |             |             |           |         |                                  |                                                    uses(relcl)                  \n",
      "   |            |           |          |         |                       |                        |             |             |           |         |                                  |                                              ___________|______________          \n",
      "   |            |           |          |         |                   10683(dep)                   |             |         from(prep)      |         |                            behavior(dobj)                                      |                  application(pobj)\n",
      "   |            |           |          |         |          _____________|____________            |             |             |           |         |        __________________________|________________________________             |                          |         \n",
      ";(punct) However(advmod) ,(punct) there(expl) .(punct)            CVE-2020(compoun -(punct) popular(amod) external(amod) OWASP(pobj) how(advmod) to(aux) the(det)   safe(amod)      ,(punct)    non(amod) -(amod) default(amod) dom4j(dobj)                  any(det)    \n",
      "                                                       (compound)        d)                                                                                                                                                                                              \n",
      "\n",
      "----------------------------------------------------------------------------------------------------\n"
     ]
    },
    {
     "data": {
      "text/html": [
       "<h4>\n",
       "CVE-2020-10683; However, there is popular external documentation from OWASP showing how to enable the safe, non-default behavior in any application that uses dom4j.</h4>"
      ],
      "text/plain": [
       "<IPython.core.display.HTML object>"
      ]
     },
     "metadata": {},
     "output_type": "display_data"
    },
    {
     "data": {
      "text/html": [
       "<h4 style=\"color: red\">[any application]--(uses)-->[dom4j]</h4>"
      ],
      "text/plain": [
       "<IPython.core.display.HTML object>"
      ]
     },
     "metadata": {},
     "output_type": "display_data"
    },
    {
     "name": "stdout",
     "output_type": "stream",
     "text": [
      "----------------------------------------------------------------------------------------------------\n",
      "~~~~~~~~ BEFORE: \n",
      "                                 identified(ROOT)                                                                                                                                                                                                                                          \n",
      "    ____________________________________|_________________________________________________________________________________________                                                                                                                                                          \n",
      "   |         |           |              |                          |                                                       scenarios(nsubjp                                                                                                                                                \n",
      "   |         |           |              |                          |                                                             ass)                                                                                                                                                      \n",
      "   |         |           |              |                          |                           ___________________________________|_________________________________________________________                                                                                                \n",
      "   |         |           |              |                          |                          |                                                                                      affected(relcl)                                                                                       \n",
      "   |         |           |              |                          |                          |           __________________________________________________________________________________|_________________________________                                                              \n",
      "   |         |           |              |                          |                          |          |          |             |                         |                               |                           without(prep)                                                      \n",
      "   |         |           |              |                          |                          |          |          |             |                         |                               |                                 |                                                             \n",
      "   |         |           |              |                          |                          |          |          |             |                         |                               |                          knowledge(pobj)                                                     \n",
      "   |         |           |              |                          |                          |          |          |             |                         |                               |            _____________________|_______________                                              \n",
      "   |         |           |              |                          |                          |          |          |             |                         |                               |           |                                  of(prep)                                        \n",
      "   |         |           |              |                          |                          |          |          |             |                         |                               |           |                                     |                                             \n",
      "   |         |           |              |                          |                          |          |          |             |                         |                               |           |                              component(pobj)                                     \n",
      "   |         |           |              |                          |                          |          |          |             |                         |                               |           |         ____________________________|_____________                                \n",
      "   |         |           |              |                    CVE-2020(dep)                    |          |          |             |                         |                           by(agent)       |        |            |                        uses(relcl)                         \n",
      "   |         |           |              |              ____________|____________              |          |          |             |                         |                               |           |        |            |                _____________|____________                   \n",
      "   |         |           |              |             |                    13799(appos)       |          |          |          in(prep)              state(nsubjpass)                 attacker(pobj)    |        |            |               |                    feature(dobj)           \n",
      "   |         |           |              |             |                         |             |          |          |             |             ____________|_______________                |           |        |            |               |              ____________|___________       \n",
      ";(punct) have(aux) been(auxpass)     .(punct)                                -(punct)   Several(amod) may(aux) be(auxpass)   which(pobj)    the(det)                  RPMB(compound)     an(det)     the(det) the(det)  trusted(amod)    that(nsubj)     the(det)                RPMB(amod)\n",
      "                                                  (compound)                                                                                                                                                                                                                               \n",
      "\n",
      "                                                                                                       identified(ROOT)                                                                                                                                                                       \n",
      "    __________________________________________________________________________________________________________|______________________________________________________                                                                                                                          \n",
      "   |         |           |          |                      |                                                                                                  scenarios(nsubjp                                                                                                                \n",
      "   |         |           |          |                      |                                                                                                        ass)                                                                                                                      \n",
      "   |         |           |          |                      |                           ______________________________________________________________________________|________________                                                                                                         \n",
      "   |         |           |          |                      |                          |                                                                                        affected(relcl)                                                                                                \n",
      "   |         |           |          |                      |                          |           ____________________________________________________________________________________|_________________________________________________                                                       \n",
      "   |         |           |          |                      |                          |          |            |              |                      |                                 |                                           without(prep)                                               \n",
      "   |         |           |          |                      |                          |          |            |              |                      |                                 |                                                 |                                                      \n",
      "   |         |           |          |                      |                          |          |            |              |                      |                                 |                                          knowledge(pobj)                                              \n",
      "   |         |           |          |                      |                          |          |            |              |                      |                                 |            _____________________________________|_____________                                         \n",
      "   |         |           |          |                      |                          |          |            |              |                      |                                 |           |                                                of(prep)                                   \n",
      "   |         |           |          |                      |                          |          |            |              |                      |                                 |           |                                                   |                                        \n",
      "   |         |           |          |                CVE-2020(dep)                    |          |            |              |                      |                             by(agent)       |                                              uses(relcl)                                  \n",
      "   |         |           |          |          ____________|____________              |          |            |              |                      |                                 |           |                      _____________________________|_____________________                   \n",
      "   |         |           |          |         |                    13799(appos)       |          |            |           in(prep)           state(nsubjpass)                   attacker(pobj)    |              component(pobj)                                      feature(dobj)           \n",
      "   |         |           |          |         |                         |             |          |            |              |          ____________|________________                 |           |         ____________|_______________                         ___________|___________       \n",
      ";(punct) have(aux) been(auxpass) .(punct)                            -(punct)   Several(amod) may(aux)   be(auxpass)    which(pobj) the(det)                   RPMB(compound)      an(det)     the(det) the(det)                  trusted(amod)              the(det)               RPMB(amod)\n",
      "                                          (compound)                                                                                                                                                                                                                                          \n",
      "\n",
      "----------------------------------------------------------------------------------------------------\n"
     ]
    },
    {
     "data": {
      "text/html": [
       "<h4>\n",
       "CVE-2020-13799; Several scenarios have been identified in which the RPMB state may be affected by an attacker without the knowledge of the trusted component that uses the RPMB feature.</h4>"
      ],
      "text/plain": [
       "<IPython.core.display.HTML object>"
      ]
     },
     "metadata": {},
     "output_type": "display_data"
    },
    {
     "data": {
      "text/html": [
       "<h4 style=\"color: red\">[the trusted component]--(uses)-->[the RPMB feature]</h4>"
      ],
      "text/plain": [
       "<IPython.core.display.HTML object>"
      ]
     },
     "metadata": {},
     "output_type": "display_data"
    },
    {
     "name": "stdout",
     "output_type": "stream",
     "text": [
      "----------------------------------------------------------------------------------------------------\n",
      "~~~~~~~~ BEFORE: \n",
      "                                                                                                                              allows(ROOT)                                                                                                                                                  \n",
      "    _______________________________________________________________________________________________________________________________|____________________________________________________                                                                                                     \n",
      "   |                       |                                                  |                                                                                                   bypass(ccomp)                                                                                             \n",
      "   |                       |                                                  |                        _________________________________________________________________________________|____________                                                                                        \n",
      "   |                       |                                                  |                       |           |                |                                                             via(prep)                                                                                  \n",
      "   |                       |                                                  |                       |           |                |                                                                 |                                                                                       \n",
      "   |                       |                                                  |                       |           |                |                                                            attack(pobj)                                                                                \n",
      "   |                       |                                                  |                       |           |                |           ______________________________________________________|___________________________                                                            \n",
      "   |                       |                                                  |                       |           |                |          |          |              |                                                   uses(relcl)                                                     \n",
      "   |                       |                                                  |                       |           |                |          |          |              |                ________________________________________|____________________________________                       \n",
      "   |                       |                                                  |                       |           |                |          |          |              |               |                      Name(dobj)                                          on(prep)                 \n",
      "   |                       |                                                  |                       |           |                |          |          |              |               |             _____________|___________________________                       |                      \n",
      "   |                   14054(dep)                                       version(nsubj)                |    attackers(nsubj) authentication(   |          |              |               |            |             |             |        field(conj)             page(pobj)                \n",
      "   |                       |                                                  |                       |           |              dobj)        |          |              |               |            |             |             |             |                      |                     \n",
      "   |          _____________|_____________________              _______________|_____________          |           |                |          |          |              |               |            |             |             |             |             _________|_____________         \n",
      ".(punct)            CVE-2020(compoun -(punct) ;(punct) Hardware(compoun                212(nummod) to(aux)   remote(amod)   admin(compound) a(det) SQL(compound) injection(compou  that(nsubj)    the(det)   User(compound)    or(cc)   Password(compoun the(det)            login(compound)\n",
      "         (compound)        d)                                 d)                                                                                                       nd)                                                                     d)                                           \n",
      "\n",
      "                                                                                                                              allows(ROOT)                                                                                                                           \n",
      "    _______________________________________________________________________________________________________________________________|____________________________________                                                                                              \n",
      "   |                       |                                                  |                                                                                   bypass(ccomp)                                                                                      \n",
      "   |                       |                                                  |                        _________________________________________________________________|________________________                                                                     \n",
      "   |                       |                                                  |                       |           |                |                                                         via(prep)                                                               \n",
      "   |                       |                                                  |                       |           |                |                                                             |                                                                    \n",
      "   |                       |                                                  |                       |           |                |                                                        uses(relcl)                                                              \n",
      "   |                       |                                                  |                       |           |                |                      _______________________________________|_____________________________________________                       \n",
      "   |                       |                                                  |                       |           |                |                     |                                   Name(dobj)                                     on(prep)                 \n",
      "   |                       |                                                  |                       |           |                |                     |                            ___________|______________________                       |                      \n",
      "   |                   14054(dep)                                       version(nsubj)                |    attackers(nsubj) authentication(         attack(pobj)                     |           |          |      field(conj)             page(pobj)                \n",
      "   |                       |                                                  |                       |           |              dobj)                   |                           |           |          |           |                      |                     \n",
      "   |          _____________|_____________________              _______________|_____________          |           |                |           __________|______________             |           |          |           |             _________|_____________         \n",
      ".(punct)            CVE-2020(compoun -(punct) ;(punct) Hardware(compoun                212(nummod) to(aux)   remote(amod)   admin(compound) a(det) SQL(compound) injection(compou the(det) User(compound) or(cc) Password(compoun the(det)            login(compound)\n",
      "         (compound)        d)                                 d)                                                                                                       nd)                                              d)                                           \n",
      "\n",
      "----------------------------------------------------------------------------------------------------\n"
     ]
    },
    {
     "data": {
      "text/html": [
       "<h4>\n",
       "CVE-2020-14054; Hardware version 212 allows remote attackers to bypass admin authentication via a SQL injection attack that uses the User Name or Password field on the login page.</h4>"
      ],
      "text/plain": [
       "<IPython.core.display.HTML object>"
      ]
     },
     "metadata": {},
     "output_type": "display_data"
    },
    {
     "data": {
      "text/html": [
       "<h4 style=\"color: red\">[a SQL injection attack]--(uses)-->[the User Name or Password field on the login page]</h4>"
      ],
      "text/plain": [
       "<IPython.core.display.HTML object>"
      ]
     },
     "metadata": {},
     "output_type": "display_data"
    },
    {
     "name": "stdout",
     "output_type": "stream",
     "text": [
      "----------------------------------------------------------------------------------------------------\n",
      "~~~~~~~~ BEFORE: \n",
      "                                                                                                    allows(ROOT)                                                                                                                                                                           \n",
      "    _____________________________________________________________________________________________________|_____________________________________________________                                                                                                                             \n",
      "   |          |         |                       |                                                                                                         evade(ccomp)                                                                                                                     \n",
      "   |          |         |                       |                      ________________________________________________________________________________________|____________________________                                                                                                \n",
      "   |          |         |                       |                     |                   |                                                                                            policy(dobj)                                                                                        \n",
      "   |          |         |                       |                     |                   |                                                        _________________________________________|_____________                                                                                  \n",
      "   |          |         |                       |                     |                   |                                                       |            |                                     uses(relcl)                                                                           \n",
      "   |          |         |                       |                     |                   |                                                       |            |               ___________________________|__________________________                                                       \n",
      "   |          |         |                       |                     |                   |                                                       |            |              |             |                                     on(prep)                                                 \n",
      "   |          |         |                       |                     |                   |                                                       |            |              |             |                                        |                                                      \n",
      "   |          |         |                       |                     |                   |                                                       |            |              |             |                                  firewall(pobj)                                              \n",
      "   |          |         |                       |                     |                   |                                                       |            |              |             |              __________________________|_______________                                       \n",
      "   |          |         |                       |                     |                   |                                                       |            |              |             |             |                                   configured(acl)                              \n",
      "   |          |         |                       |                     |                   |                                                       |            |              |             |             |                                          |                                      \n",
      "   |          |         |                       |                     |                   |                                                       |            |              |             |             |                                      with(prep)                                \n",
      "   |          |         |                       |                     |                   |                                                       |            |              |             |             |                                          |                                      \n",
      "   |          |         |                       |                     |                   |                                                       |            |              |             |             |                                   Decryption(pobj)                             \n",
      "   |          |         |                       |                     |                   |                                                       |            |              |             |             |             _____________________________|_____________                         \n",
      "   |          |         |                       |                     |              host(nsubj)                                                  |            |              |             |             |            |                                        in(prep)                   \n",
      "   |          |         |                       |                     |       ____________|____________________________                           |            |              |             |             |            |                                           |                        \n",
      "   |          |         |                       |                     |      |            |                         in(prep)                      |            |              |             |             |            |                                       mode(pobj)                  \n",
      "   |          |         |                       |                     |      |            |                            |                          |            |              |             |             |            |                              _____________|______________          \n",
      "   |          |         |                   2035(dep)                 |      |            |                      network(pobj)                    |            |              |      filtering(dobj)      |            |                             |                     Proxy(compound) \n",
      "   |          |         |          _____________|____________         |      |            |               _____________|______________            |            |              |             |             |            |                             |                            |         \n",
      ";(punct) This(nsubj) .(punct)            CVE-2020(compoun -(punct) to(aux) a(det) compromised(amod)    a(det)                  protected(amod) any(det) security(compoun that(nsubj)  URL(compound)     a(det)   SSL(compound)                    the(det)                Forward(compound)\n",
      "                              (compound)        d)                                                                                                             d)                                                                                                                          \n",
      "\n",
      "                                                                                     allows(ROOT)                                                                                                                                                                                         \n",
      "    ______________________________________________________________________________________|___________________________________________________                                                                                                                                             \n",
      "   |          |         |                       |                                                                                        evade(ccomp)                                                                                                                                     \n",
      "   |          |         |                       |                      _______________________________________________________________________|__________________________________________________________                                                                                  \n",
      "   |          |         |                       |                     |                   |                                                                                                         uses(relcl)                                                                           \n",
      "   |          |         |                       |                     |                   |                                                                 _____________________________________________|__________________________                                                       \n",
      "   |          |         |                       |                     |                   |                                                                |                               |                                     on(prep)                                                 \n",
      "   |          |         |                       |                     |                   |                                                                |                               |                                        |                                                      \n",
      "   |          |         |                       |                     |                   |                                                                |                               |                                  firewall(pobj)                                              \n",
      "   |          |         |                       |                     |                   |                                                                |                               |              __________________________|_______________                                       \n",
      "   |          |         |                       |                     |                   |                                                                |                               |             |                                   configured(acl)                              \n",
      "   |          |         |                       |                     |                   |                                                                |                               |             |                                          |                                      \n",
      "   |          |         |                       |                     |                   |                                                                |                               |             |                                      with(prep)                                \n",
      "   |          |         |                       |                     |                   |                                                                |                               |             |                                          |                                      \n",
      "   |          |         |                       |                     |                   |                                                                |                               |             |                                   Decryption(pobj)                             \n",
      "   |          |         |                       |                     |                   |                                                                |                               |             |             _____________________________|_____________                         \n",
      "   |          |         |                       |                     |              host(nsubj)                                                           |                               |             |            |                                        in(prep)                   \n",
      "   |          |         |                       |                     |       ____________|______________________                                          |                               |             |            |                                           |                        \n",
      "   |          |         |                       |                     |      |            |                   in(prep)                                     |                               |             |            |                                       mode(pobj)                  \n",
      "   |          |         |                       |                     |      |            |                      |                                         |                               |             |            |                              _____________|______________          \n",
      "   |          |         |                   2035(dep)                 |      |            |                network(pobj)                              policy(dobj)                  filtering(dobj)      |            |                             |                     Proxy(compound) \n",
      "   |          |         |          _____________|____________         |      |            |            __________|______________               ____________|______________                 |             |            |                             |                            |         \n",
      ";(punct) This(nsubj) .(punct)            CVE-2020(compoun -(punct) to(aux) a(det) compromised(amod) a(det)               protected(amod)   any(det)                security(compoun  URL(compound)     a(det)   SSL(compound)                    the(det)                Forward(compound)\n",
      "                              (compound)        d)                                                                                                                        d)                                                                                                              \n",
      "\n",
      "----------------------------------------------------------------------------------------------------\n"
     ]
    },
    {
     "data": {
      "text/html": [
       "<h4>\n",
       "CVE-2020-2035; This allows a compromised host in a protected network to evade any security policy that uses URL filtering on a firewall configured with SSL Decryption in the Forward Proxy mode.</h4>"
      ],
      "text/plain": [
       "<IPython.core.display.HTML object>"
      ]
     },
     "metadata": {},
     "output_type": "display_data"
    },
    {
     "data": {
      "text/html": [
       "<h4 style=\"color: red\">[any security policy]--(uses)-->[URL filtering on a firewall configured with SSL Decryption in the Forward Proxy mode]</h4>"
      ],
      "text/plain": [
       "<IPython.core.display.HTML object>"
      ]
     },
     "metadata": {},
     "output_type": "display_data"
    },
    {
     "name": "stdout",
     "output_type": "stream",
     "text": [
      "----------------------------------------------------------------------------------------------------\n"
     ]
    }
   ],
   "source": [
    "corpus = \"\"\"\n",
    "Demo; Calvin is a distributed main-memory database system that uses a deterministic execution strategy.\n",
    "CVE-2020-10138; Acronis Cyber Backup and Cyber Protect contain a privileged service that uses this OpenSSL component.\n",
    "CVE-2020-10683; However, there is popular external documentation from OWASP showing how to enable the safe, non-default behavior in any application that uses dom4j.\n",
    "CVE-2020-13799; Several scenarios have been identified in which the RPMB state may be affected by an attacker without the knowledge of the trusted component that uses the RPMB feature.\n",
    "CVE-2020-14054; Hardware version 212 allows remote attackers to bypass admin authentication via a SQL injection attack that uses the User Name or Password field on the login page.\n",
    "CVE-2020-2035; This allows a compromised host in a protected network to evade any security policy that uses URL filtering on a firewall configured with SSL Decryption in the Forward Proxy mode.\n",
    "\"\"\"\n",
    "doc = nlp(corpus)\n",
    "\n",
    "for i, sent in enumerate(doc.sents):\n",
    "    if len(sent) < 2:\n",
    "        continue\n",
    "   \n",
    "    print(\"~~~~~~~~ BEFORE: \")\n",
    "    to_nltk_tree(sent.root).pretty_print()\n",
    "    \n",
    "    extraction_result = Growth_replace_subj_if_dep_is_relcl_or_ccomp(sent, 'uses')\n",
    "    \n",
    "    to_nltk_tree(sent.root).pretty_print()\n",
    "    \n",
    "    print('-'*100)\n",
    "    display(HTML(f'<h4>{sent}</h4>'))\n",
    "    print_subtree(extraction_result, 'uses')\n",
    "    print('-'*100)\n"
   ]
  },
  {
   "cell_type": "markdown",
   "id": "cathedral-plane",
   "metadata": {},
   "source": [
    "# Rule 2\n",
    "### (Growth)\n",
    "If the current node is part of a conj relation through its head edge, and no subj-like child node exists, search for a subj-like child node in the parent (a sibling node). Recurse in case this is not found and the head edge is again a conj."
   ]
  },
  {
   "cell_type": "code",
   "execution_count": 6,
   "id": "driven-crime",
   "metadata": {},
   "outputs": [],
   "source": [
    "def is_edge_of_node_to_its_head_conj(node):\n",
    "    return node.dep_ == 'conj'\n",
    "\n",
    "def recursively_find_subj_like_node_in_sibiling(node):\n",
    "    for c in node.head.children:\n",
    "        if c.dep_ in SUBJ_LIKE_RELATIONS:\n",
    "            print(c.text, c.dep_)\n",
    "            return c\n",
    "        if node.dep_ == 'ROOT':\n",
    "            return False\n",
    "        else:\n",
    "            return recursively_find_subj_like_node_in_sibiling(node.head)\n",
    "\n",
    "def Growth_recurse_on_dep_conj_if_no_subj(sentence, target_word):\n",
    "    spn = sentence[0:]\n",
    "    for node in spn:\n",
    "        if node.text != target_word:\n",
    "            continue\n",
    "            \n",
    "        if not is_edge_of_node_to_its_head_conj(node):\n",
    "            continue\n",
    "            \n",
    "        if has_a_single_subj_like_child(node):\n",
    "            continue\n",
    "        \n",
    "        result = recursively_find_subj_like_node_in_sibiling(node)\n",
    "        if result:\n",
    "            result.head = node\n",
    "            \n",
    "        remove_punct_children(node)\n",
    "        return [n for n in node.subtree if n._.is_included]"
   ]
  },
  {
   "cell_type": "code",
   "execution_count": 7,
   "id": "saving-penetration",
   "metadata": {},
   "outputs": [
    {
     "name": "stdout",
     "output_type": "stream",
     "text": [
      "0 Using many ASR hypotheses helps recover the ASR errors of NE words in 1-best ASR results and improves NER accuracy.\n",
      "~~~~~~~~ BEFORE: \n",
      "                                                                     helps(ROOT)                                                                               \n",
      "    ______________________________________________________________________|_____________                                                                        \n",
      "   |                       |                                                      recover(xcomp)                                                               \n",
      "   |                       |                           _________________________________|______________________________________________________________         \n",
      "   |                       |                          |              errors(dobj)                                 in(prep)                             |       \n",
      "   |                       |                          |        ___________|_____________                             |                                 |        \n",
      "   |                  Using(csubj)                    |       |           |          of(prep)                  results(pobj)                     improves(conj)\n",
      "   |                       |                          |       |           |             |               _____________|___________                      |        \n",
      "   |                hypotheses(dobj)                  |       |           |        words(pobj)         |                     best(amod)          accuracy(dobj)\n",
      "   |          _____________|_______________           |       |           |             |              |              ___________|_________            |        \n",
      ".(punct) many(amod)                  ASR(compound) and(cc) the(det) ASR(compound)  NE(compound)  ASR(compound)   1(advmod)              -(punct) NER(compound) \n",
      "\n",
      "Using csubj\n",
      "~~~~~~~~ AFTER:\n",
      "                 helps(ROOT)                                                                                                                                      \n",
      "    __________________|_______________________________________                                                                                                     \n",
      "   |                                                    recover(xcomp)                                                                                            \n",
      "   |         _________________________________________________|____________________________________________________________________________                        \n",
      "   |        |                 errors(dobj)                                in(prep)                                                   improves(conj)               \n",
      "   |        |          ____________|____________                             |                                              _______________|______________         \n",
      "   |        |         |            |         of(prep)                  results(pobj)                                  Using(csubj)                        |       \n",
      "   |        |         |            |            |              ______________|___________                                  |                              |        \n",
      "   |        |         |            |       words(pobj)        |                      best(amod)                     hypotheses(dobj)                accuracy(dobj)\n",
      "   |        |         |            |            |             |               ___________|_________           _____________|_______________               |        \n",
      ".(punct) and(cc)   the(det)  ASR(compound) NE(compound) ASR(compound)    1(advmod)              -(punct) many(amod)                  ASR(compound)  NER(compound) \n",
      "\n",
      "----------------------------------------------------------------------------------------------------\n"
     ]
    },
    {
     "data": {
      "text/html": [
       "<h4>Using many ASR hypotheses helps recover the ASR errors of NE words in 1-best ASR results and improves NER accuracy.</h4>"
      ],
      "text/plain": [
       "<IPython.core.display.HTML object>"
      ]
     },
     "metadata": {},
     "output_type": "display_data"
    },
    {
     "data": {
      "text/html": [
       "<h4 style=\"color: red\">[Using many ASR hypotheses]--(improves)-->[NER accuracy]</h4>"
      ],
      "text/plain": [
       "<IPython.core.display.HTML object>"
      ]
     },
     "metadata": {},
     "output_type": "display_data"
    },
    {
     "name": "stdout",
     "output_type": "stream",
     "text": [
      "----------------------------------------------------------------------------------------------------\n",
      "2 This research studies the usage of grammars and LZ77 parsing for compression of similar sequence collections and improves complexity bounds with respect to space as well as time.\n",
      "~~~~~~~~ BEFORE: \n",
      "                                                  studies(ROOT)                                                                                                                               \n",
      "    ____________________________________________________|___________________________________________________________________________________________                                           \n",
      "   |       |            |                          usage(dobj)                                                                                      |                                         \n",
      "   |       |            |            ___________________|______________________________                                                             |                                          \n",
      "   |       |            |           |        |          |                          LZ77(conj)                                                 improves(conj)                                  \n",
      "   |       |            |           |        |          |                              |                                  __________________________|______________                            \n",
      "   |       |            |           |        |          |                        parsing(xcomp)                          |                                     with(prep)                     \n",
      "   |       |            |           |        |          |                              |                                 |                                         |                           \n",
      "   |       |            |           |        |          |                          for(prep)                             |                                   respect(pobj)                    \n",
      "   |       |            |           |        |          |                              |                                 |                                         |                           \n",
      "   |       |            |           |        |          |                      compression(pobj)                         |                                      to(prep)                      \n",
      "   |       |            |           |        |          |                              |                                 |                                         |                           \n",
      "   |       |            |           |        |          |                           of(prep)                             |                                    space(pobj)                     \n",
      "   |       |            |           |        |          |                              |                                 |              ___________________________|_________                  \n",
      "   |       |     research(nsubj)    |        |       of(prep)                  collections(pobj)                    bounds(dobj)       |                                   as(cc)             \n",
      "   |       |            |           |        |          |               _______________|________________                 |             |                            _________|_________        \n",
      "and(cc) .(punct)    This(det)    the(det) and(cc) grammars(pobj) similar(amod)                   sequence(compoun complexity(compo time(conj)                  as(advmod)         well(advmod)\n",
      "                                                                                                        d)              und)                                                                  \n",
      "\n",
      "research nsubj\n",
      "~~~~~~~~ AFTER:\n",
      "                                                 studies(ROOT)                                                                                                                     \n",
      "    ___________________________________________________|_________________________________________________________________________________                                           \n",
      "   |       |                       usage(dobj)                                                                                           |                                         \n",
      "   |       |         ___________________|______________________________                                                                  |                                          \n",
      "   |       |        |        |          |                          LZ77(conj)                                                      improves(conj)                                  \n",
      "   |       |        |        |          |                              |                                  _______________________________|______________                            \n",
      "   |       |        |        |          |                        parsing(xcomp)                          |               |                          with(prep)                     \n",
      "   |       |        |        |          |                              |                                 |               |                              |                           \n",
      "   |       |        |        |          |                          for(prep)                             |               |                        respect(pobj)                    \n",
      "   |       |        |        |          |                              |                                 |               |                              |                           \n",
      "   |       |        |        |          |                      compression(pobj)                         |               |                           to(prep)                      \n",
      "   |       |        |        |          |                              |                                 |               |                              |                           \n",
      "   |       |        |        |          |                           of(prep)                             |               |                         space(pobj)                     \n",
      "   |       |        |        |          |                              |                                 |               |                ______________|_________                  \n",
      "   |       |        |        |       of(prep)                  collections(pobj)                  research(nsubj)   bounds(dobj)         |                      as(cc)             \n",
      "   |       |        |        |          |               _______________|________________                 |               |               |               _________|_________        \n",
      "and(cc) .(punct) the(det) and(cc) grammars(pobj) similar(amod)                   sequence(compoun    This(det)    complexity(compo   time(conj)     as(advmod)         well(advmod)\n",
      "                                                                                        d)                              und)                                                       \n",
      "\n",
      "----------------------------------------------------------------------------------------------------\n"
     ]
    },
    {
     "data": {
      "text/html": [
       "<h4>This research studies the usage of grammars and LZ77 parsing for compression of similar sequence collections and improves complexity bounds with respect to space as well as time.</h4>"
      ],
      "text/plain": [
       "<IPython.core.display.HTML object>"
      ]
     },
     "metadata": {},
     "output_type": "display_data"
    },
    {
     "data": {
      "text/html": [
       "<h4 style=\"color: red\">[This research]--(improves)-->[complexity bounds with respect to space as well as time]</h4>"
      ],
      "text/plain": [
       "<IPython.core.display.HTML object>"
      ]
     },
     "metadata": {},
     "output_type": "display_data"
    },
    {
     "name": "stdout",
     "output_type": "stream",
     "text": [
      "----------------------------------------------------------------------------------------------------\n"
     ]
    }
   ],
   "source": [
    "corpus = \"\"\"Using many ASR hypotheses helps recover the ASR errors of NE words in 1-best ASR results and improves NER accuracy.\n",
    "This research studies the usage of grammars and LZ77 parsing for compression of similar sequence collections and improves complexity bounds with respect to space as well as time.\n",
    "\"\"\"\n",
    "doc = nlp(corpus)\n",
    "\n",
    "for i, sent in enumerate(doc.sents):\n",
    "    if len(sent) < 2:\n",
    "        continue\n",
    "   \n",
    "    print(i, sent)\n",
    "    print(\"~~~~~~~~ BEFORE: \")\n",
    "    to_nltk_tree(sent.root).pretty_print()\n",
    "        \n",
    "    rule_2_extraction_result = Growth_recurse_on_dep_conj_if_no_subj(sent, 'improves')\n",
    "\n",
    "    print(\"~~~~~~~~ AFTER:\")\n",
    "    to_nltk_tree(sent.root).pretty_print()\n",
    "        \n",
    "    print('-'*100)\n",
    "    display(HTML(f'<h4>{sent}</h4>'))\n",
    "    print_subtree(rule_2_extraction_result, 'improves')\n",
    "    print('-'*100)"
   ]
  },
  {
   "cell_type": "markdown",
   "id": "wrapped-visit",
   "metadata": {},
   "source": [
    "# Rule 3\n",
    "### (Growth)\n",
    "If no obj-like child node exists, transform? nodes xcomp or ccomp in a dobj. If no subj-like child node exists, transform? nodes xcomp or ccomp in a nsubj."
   ]
  },
  {
   "cell_type": "code",
   "execution_count": 8,
   "id": "prostate-performer",
   "metadata": {},
   "outputs": [],
   "source": [
    "def transform_xcomp_to_dobj_or_sub_if_doesnt_exists(sentence, target_word):\n",
    "#     TBD\n",
    "    pass"
   ]
  },
  {
   "cell_type": "code",
   "execution_count": 9,
   "id": "romantic-analysis",
   "metadata": {},
   "outputs": [
    {
     "name": "stdout",
     "output_type": "stream",
     "text": [
      "~~~~~~~~ BEFORE: \n",
      "                               showed(ROOT)                                                   \n",
      "    ________________________________|______________                                            \n",
      "   |        |          |                    improves(ccomp)                                   \n",
      "   |        |          |             ______________|_________________________________          \n",
      "   |        |          |            |              |               |           ranking(advcl) \n",
      "   |        |          |            |              |               |                 |         \n",
      "   |        |          |            |              |               |             for(prep)    \n",
      "   |        |          |            |              |               |                 |         \n",
      "   |        |     work(nsubj)       |              |        retrieval(nsubj)  questions(pobj) \n",
      "   |        |          |            |              |               |                 |         \n",
      "has(aux) .(punct) Recent(amod)  that(mark)    answer(dobj)  structured(amod) factoid(compound)\n",
      "\n"
     ]
    }
   ],
   "source": [
    "corpus = \"\"\"Recent work has showed that structured retrieval improves answer ranking for factoid questions.\n",
    "\"\"\"\n",
    "doc = nlp(corpus)\n",
    "\n",
    "for i, sent in enumerate(doc.sents):\n",
    "    if len(sent) < 2:\n",
    "        continue\n",
    "   \n",
    "    print(\"~~~~~~~~ BEFORE: \")\n",
    "    to_nltk_tree(sent.root).pretty_print()"
   ]
  },
  {
   "cell_type": "code",
   "execution_count": null,
   "id": "numeric-advocate",
   "metadata": {},
   "outputs": [],
   "source": []
  }
 ],
 "metadata": {
  "kernelspec": {
   "display_name": "Python 3",
   "language": "python",
   "name": "python3"
  },
  "language_info": {
   "codemirror_mode": {
    "name": "ipython",
    "version": 3
   },
   "file_extension": ".py",
   "mimetype": "text/x-python",
   "name": "python",
   "nbconvert_exporter": "python",
   "pygments_lexer": "ipython3",
   "version": "3.8.5"
  }
 },
 "nbformat": 4,
 "nbformat_minor": 5
}
